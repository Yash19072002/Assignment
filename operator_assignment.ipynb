{
 "cells": [
  {
   "cell_type": "code",
   "execution_count": 1,
   "id": "e206538d-a78a-4072-bc6a-9c0a25194d5b",
   "metadata": {},
   "outputs": [],
   "source": [
    "#question1 = Calculate the sum,difference,product,and quotient of two numbers."
   ]
  },
  {
   "cell_type": "code",
   "execution_count": 2,
   "id": "8b21abb7-7b67-467f-b614-8826b0327586",
   "metadata": {},
   "outputs": [],
   "source": [
    "#sum"
   ]
  },
  {
   "cell_type": "code",
   "execution_count": 3,
   "id": "eecf2217-079b-4431-a277-5a7c413421ff",
   "metadata": {},
   "outputs": [
    {
     "data": {
      "text/plain": [
       "9"
      ]
     },
     "execution_count": 3,
     "metadata": {},
     "output_type": "execute_result"
    }
   ],
   "source": [
    "4+5"
   ]
  },
  {
   "cell_type": "code",
   "execution_count": 4,
   "id": "1c623101-4e0f-4df9-9f9c-2e9603afd068",
   "metadata": {},
   "outputs": [],
   "source": [
    "#difference"
   ]
  },
  {
   "cell_type": "code",
   "execution_count": 6,
   "id": "ca27149f-1fd8-4820-9c54-cbe38d23054b",
   "metadata": {},
   "outputs": [
    {
     "data": {
      "text/plain": [
       "-1"
      ]
     },
     "execution_count": 6,
     "metadata": {},
     "output_type": "execute_result"
    }
   ],
   "source": [
    "4-5"
   ]
  },
  {
   "cell_type": "code",
   "execution_count": 7,
   "id": "f1952f38-5aa3-483c-94a9-d47ad8227cb4",
   "metadata": {},
   "outputs": [],
   "source": [
    "#product"
   ]
  },
  {
   "cell_type": "code",
   "execution_count": 8,
   "id": "8e99f0c7-7d68-46b3-9fb7-cf58578dbefa",
   "metadata": {},
   "outputs": [
    {
     "data": {
      "text/plain": [
       "20"
      ]
     },
     "execution_count": 8,
     "metadata": {},
     "output_type": "execute_result"
    }
   ],
   "source": [
    "4*5"
   ]
  },
  {
   "cell_type": "code",
   "execution_count": 9,
   "id": "772289ce-a5da-475f-a9e6-66398a0ea377",
   "metadata": {},
   "outputs": [],
   "source": [
    "#quotient"
   ]
  },
  {
   "cell_type": "code",
   "execution_count": 10,
   "id": "fc4000bb-ce57-41bf-844b-2d37aea51b33",
   "metadata": {},
   "outputs": [
    {
     "data": {
      "text/plain": [
       "5.0"
      ]
     },
     "execution_count": 10,
     "metadata": {},
     "output_type": "execute_result"
    }
   ],
   "source": [
    "10/2"
   ]
  },
  {
   "cell_type": "code",
   "execution_count": 11,
   "id": "dfe5e33c-8d11-4f6b-84d8-ef74894ea24a",
   "metadata": {},
   "outputs": [],
   "source": [
    "#question 2 = perform various assignment operations on a variable."
   ]
  },
  {
   "cell_type": "code",
   "execution_count": 12,
   "id": "c2a79d09-a2aa-4ee2-a9af-b17379f22382",
   "metadata": {},
   "outputs": [],
   "source": [
    "x = 4"
   ]
  },
  {
   "cell_type": "code",
   "execution_count": 13,
   "id": "a3f99233-a1fc-4c0c-9056-f9cd466cf2aa",
   "metadata": {},
   "outputs": [],
   "source": [
    "x +=2"
   ]
  },
  {
   "cell_type": "code",
   "execution_count": 14,
   "id": "bf47cd5f-00d6-49a8-a997-a4e0050044c3",
   "metadata": {},
   "outputs": [
    {
     "data": {
      "text/plain": [
       "6"
      ]
     },
     "execution_count": 14,
     "metadata": {},
     "output_type": "execute_result"
    }
   ],
   "source": [
    "x"
   ]
  },
  {
   "cell_type": "code",
   "execution_count": 15,
   "id": "bdb6f4f2-a661-45dc-b97a-5724b5d25d26",
   "metadata": {},
   "outputs": [],
   "source": [
    "x -=3"
   ]
  },
  {
   "cell_type": "code",
   "execution_count": 16,
   "id": "ce43ff1e-dae0-48ee-b04e-cdbc2a387b27",
   "metadata": {},
   "outputs": [
    {
     "data": {
      "text/plain": [
       "3"
      ]
     },
     "execution_count": 16,
     "metadata": {},
     "output_type": "execute_result"
    }
   ],
   "source": [
    "x"
   ]
  },
  {
   "cell_type": "code",
   "execution_count": 17,
   "id": "a7783b12-bfc3-4bf3-ba8a-d356095ba1db",
   "metadata": {},
   "outputs": [],
   "source": [
    "x *=2"
   ]
  },
  {
   "cell_type": "code",
   "execution_count": 18,
   "id": "fc72d2ac-b863-4cda-9df7-0c7a8056fe2a",
   "metadata": {},
   "outputs": [
    {
     "data": {
      "text/plain": [
       "6"
      ]
     },
     "execution_count": 18,
     "metadata": {},
     "output_type": "execute_result"
    }
   ],
   "source": [
    "x"
   ]
  },
  {
   "cell_type": "code",
   "execution_count": 19,
   "id": "72942657-2da2-4bc5-b06a-7e1f2fe7b717",
   "metadata": {},
   "outputs": [],
   "source": [
    "x/=2"
   ]
  },
  {
   "cell_type": "code",
   "execution_count": 20,
   "id": "16723b21-fb33-4aab-9437-47f4fc26b535",
   "metadata": {},
   "outputs": [
    {
     "data": {
      "text/plain": [
       "3.0"
      ]
     },
     "execution_count": 20,
     "metadata": {},
     "output_type": "execute_result"
    }
   ],
   "source": [
    "x"
   ]
  },
  {
   "cell_type": "code",
   "execution_count": 21,
   "id": "1f91fabe-6b3d-4d0d-b9e3-44291c4208bd",
   "metadata": {},
   "outputs": [],
   "source": [
    "#quesiton3 = compare two numbers and print the results."
   ]
  },
  {
   "cell_type": "code",
   "execution_count": 22,
   "id": "54165a2b-a71c-44e2-a5f7-07e9d7e2877b",
   "metadata": {},
   "outputs": [],
   "source": [
    "no1 = 5\n",
    "no2 = 4"
   ]
  },
  {
   "cell_type": "code",
   "execution_count": 26,
   "id": "bd24c882-d2b4-4e7b-99cc-8e951317ae9e",
   "metadata": {},
   "outputs": [
    {
     "data": {
      "text/plain": [
       "False"
      ]
     },
     "execution_count": 26,
     "metadata": {},
     "output_type": "execute_result"
    }
   ],
   "source": [
    "no1==no2"
   ]
  },
  {
   "cell_type": "code",
   "execution_count": 27,
   "id": "e9070cbb-7309-423f-9640-08c4f97d3f9f",
   "metadata": {},
   "outputs": [
    {
     "data": {
      "text/plain": [
       "True"
      ]
     },
     "execution_count": 27,
     "metadata": {},
     "output_type": "execute_result"
    }
   ],
   "source": [
    "no1!=no2"
   ]
  },
  {
   "cell_type": "code",
   "execution_count": 28,
   "id": "f00ed55d-5c5f-4d64-bea0-2a7d6b51e627",
   "metadata": {},
   "outputs": [
    {
     "data": {
      "text/plain": [
       "False"
      ]
     },
     "execution_count": 28,
     "metadata": {},
     "output_type": "execute_result"
    }
   ],
   "source": [
    "no1<no2"
   ]
  },
  {
   "cell_type": "code",
   "execution_count": 29,
   "id": "404ec0ae-402f-44b7-852f-4acbf0c99fa9",
   "metadata": {},
   "outputs": [
    {
     "data": {
      "text/plain": [
       "False"
      ]
     },
     "execution_count": 29,
     "metadata": {},
     "output_type": "execute_result"
    }
   ],
   "source": [
    "no1<=no2"
   ]
  },
  {
   "cell_type": "code",
   "execution_count": 30,
   "id": "64ba62db-143f-44b6-b4b1-51ce6b8dcc43",
   "metadata": {},
   "outputs": [
    {
     "data": {
      "text/plain": [
       "True"
      ]
     },
     "execution_count": 30,
     "metadata": {},
     "output_type": "execute_result"
    }
   ],
   "source": [
    "no1>=no2"
   ]
  },
  {
   "cell_type": "code",
   "execution_count": 31,
   "id": "330d305f-03df-4b6a-8a56-223172e96956",
   "metadata": {},
   "outputs": [],
   "source": [
    "#question 4 = check conditions using logical operators."
   ]
  },
  {
   "cell_type": "code",
   "execution_count": 33,
   "id": "ca70933a-fccd-4ba3-bf5e-3ffdafc2d9a0",
   "metadata": {},
   "outputs": [
    {
     "name": "stdout",
     "output_type": "stream",
     "text": [
      "a is less than b,b is less than c\n",
      "a is equal to 2 or b is equal to 2.\n",
      "c is not less than a.\n"
     ]
    }
   ],
   "source": [
    "a = 2\n",
    "b = 4\n",
    "c = 6\n",
    "if a<b and b<c:\n",
    "    print(\"a is less than b,b is less than c\")\n",
    "if a==2 or b==2:\n",
    "    print(\"a is equal to 2 or b is equal to 2.\")\n",
    "if not(c<a):\n",
    "    print(\"c is not less than a.\")"
   ]
  },
  {
   "cell_type": "code",
   "execution_count": 34,
   "id": "97f332f3-32c2-4f94-b4e5-28023aefde0d",
   "metadata": {},
   "outputs": [],
   "source": [
    "#question 5= check the identity of variable."
   ]
  },
  {
   "cell_type": "code",
   "execution_count": 35,
   "id": "b954b805-544a-4f06-8a2a-63decfdb2646",
   "metadata": {},
   "outputs": [],
   "source": [
    "a = [1,2,3]\n",
    "b = a"
   ]
  },
  {
   "cell_type": "code",
   "execution_count": 36,
   "id": "934d5bcf-3f7f-41a5-a7dc-ef28d56a98e7",
   "metadata": {},
   "outputs": [
    {
     "data": {
      "text/plain": [
       "True"
      ]
     },
     "execution_count": 36,
     "metadata": {},
     "output_type": "execute_result"
    }
   ],
   "source": [
    "a is b"
   ]
  },
  {
   "cell_type": "code",
   "execution_count": 37,
   "id": "a3f1fe83-da39-4823-b85b-dc08ee02c9bb",
   "metadata": {},
   "outputs": [],
   "source": [
    "#Question 6 =Perform bitwise operations on any two integers"
   ]
  },
  {
   "cell_type": "code",
   "execution_count": 38,
   "id": "9092b84b-d7d3-4b59-8dea-7b7e95298cdd",
   "metadata": {},
   "outputs": [],
   "source": [
    "a = 5\n",
    "b = 2\n"
   ]
  },
  {
   "cell_type": "code",
   "execution_count": 39,
   "id": "49bb5ab3-7661-454e-b943-0f2d18d27b08",
   "metadata": {},
   "outputs": [
    {
     "data": {
      "text/plain": [
       "0"
      ]
     },
     "execution_count": 39,
     "metadata": {},
     "output_type": "execute_result"
    }
   ],
   "source": [
    "a & b"
   ]
  },
  {
   "cell_type": "code",
   "execution_count": 40,
   "id": "592f72ef-d723-4f02-9b3a-07f79b43a42b",
   "metadata": {},
   "outputs": [
    {
     "data": {
      "text/plain": [
       "'0b101'"
      ]
     },
     "execution_count": 40,
     "metadata": {},
     "output_type": "execute_result"
    }
   ],
   "source": [
    "bin(a)"
   ]
  },
  {
   "cell_type": "code",
   "execution_count": 41,
   "id": "d201c95f-39b9-41e7-8677-499191f3cf36",
   "metadata": {},
   "outputs": [
    {
     "data": {
      "text/plain": [
       "'0b10'"
      ]
     },
     "execution_count": 41,
     "metadata": {},
     "output_type": "execute_result"
    }
   ],
   "source": [
    "bin(b)"
   ]
  },
  {
   "cell_type": "code",
   "execution_count": 42,
   "id": "1a6289ec-c33c-4b18-92f2-1a06d42b6293",
   "metadata": {},
   "outputs": [
    {
     "data": {
      "text/plain": [
       "7"
      ]
     },
     "execution_count": 42,
     "metadata": {},
     "output_type": "execute_result"
    }
   ],
   "source": [
    "a | b"
   ]
  },
  {
   "cell_type": "code",
   "execution_count": 43,
   "id": "28632786-66e3-4838-9a7a-8ccbe440b0a8",
   "metadata": {},
   "outputs": [],
   "source": [
    "#Question 7 = Use unary operators to change the sign of a number.\n"
   ]
  },
  {
   "cell_type": "code",
   "execution_count": 45,
   "id": "31f86b5f-09ec-4f58-beac-68a9db2e556d",
   "metadata": {},
   "outputs": [],
   "source": [
    "no1 = 10\n",
    "negative_number = -no1"
   ]
  },
  {
   "cell_type": "code",
   "execution_count": 46,
   "id": "515e72f4-e8da-450b-a3b8-e5c40a9a0dcc",
   "metadata": {},
   "outputs": [
    {
     "data": {
      "text/plain": [
       "-10"
      ]
     },
     "execution_count": 46,
     "metadata": {},
     "output_type": "execute_result"
    }
   ],
   "source": [
    "negative_number"
   ]
  },
  {
   "cell_type": "code",
   "execution_count": 47,
   "id": "e7bc0eaf-d932-4ac7-837d-a501d51efa2b",
   "metadata": {},
   "outputs": [],
   "source": [
    "#question8= Use the ternary operator to assign values based on conditions"
   ]
  },
  {
   "cell_type": "code",
   "execution_count": null,
   "id": "e815f3b2-b41f-4171-acca-413a1c650b85",
   "metadata": {},
   "outputs": [],
   "source": [
    "VIIIII"
   ]
  }
 ],
 "metadata": {
  "kernelspec": {
   "display_name": "Python 3 (ipykernel)",
   "language": "python",
   "name": "python3"
  },
  "language_info": {
   "codemirror_mode": {
    "name": "ipython",
    "version": 3
   },
   "file_extension": ".py",
   "mimetype": "text/x-python",
   "name": "python",
   "nbconvert_exporter": "python",
   "pygments_lexer": "ipython3",
   "version": "3.10.8"
  }
 },
 "nbformat": 4,
 "nbformat_minor": 5
}
