{
 "cells": [
  {
   "cell_type": "code",
   "execution_count": 1,
   "id": "6fa34d55-5506-434c-9f01-a69c2567a500",
   "metadata": {},
   "outputs": [],
   "source": [
    "#Q1. Explain Class and Object with respect to Object-Oriented Programming. Give a suitable example."
   ]
  },
  {
   "cell_type": "code",
   "execution_count": 2,
   "id": "5cd9eb7a-5611-4b41-b499-362b82491ffc",
   "metadata": {},
   "outputs": [],
   "source": [
    "#A class is a blueprint for creating objects. and object is a instance of a class"
   ]
  },
  {
   "cell_type": "code",
   "execution_count": 3,
   "id": "f2628e9f-3996-486d-a5bc-94b80eac464a",
   "metadata": {},
   "outputs": [],
   "source": [
    "class pwskills:\n",
    "    \n",
    "    def __init__(self,email_id,phone_no,salary):\n",
    "        self.email_id = email_id\n",
    "        self.phone_no = phone_no\n",
    "        self.salary =salary\n",
    "        \n",
    "    def return_details(self):\n",
    "        return self.email_id,self.phone_no,self.salary\n",
    "    "
   ]
  },
  {
   "cell_type": "code",
   "execution_count": 5,
   "id": "77a69795-b2cc-4be5-a915-932e65124757",
   "metadata": {},
   "outputs": [],
   "source": [
    "#creating pwskills object"
   ]
  },
  {
   "cell_type": "code",
   "execution_count": 4,
   "id": "36b48569-2605-4781-86ec-9678cf923890",
   "metadata": {},
   "outputs": [],
   "source": [
    "yash = pwskills(\"negiyash073@gmail.com\",89475943579,25000)"
   ]
  },
  {
   "cell_type": "code",
   "execution_count": 6,
   "id": "38d188ac-301f-4375-af26-6f71e9209ef2",
   "metadata": {},
   "outputs": [],
   "source": [
    "#using object method"
   ]
  },
  {
   "cell_type": "code",
   "execution_count": 7,
   "id": "7fc7cf29-99be-4cda-8083-225547bdc65f",
   "metadata": {},
   "outputs": [
    {
     "data": {
      "text/plain": [
       "('negiyash073@gmail.com', 89475943579, 25000)"
      ]
     },
     "execution_count": 7,
     "metadata": {},
     "output_type": "execute_result"
    }
   ],
   "source": [
    "yash.return_details()"
   ]
  },
  {
   "cell_type": "code",
   "execution_count": 8,
   "id": "5ca93403-d6f6-475c-aa99-3e0dcb158849",
   "metadata": {},
   "outputs": [],
   "source": [
    "#Q2. Name the four pillars of OOPs."
   ]
  },
  {
   "cell_type": "code",
   "execution_count": 9,
   "id": "dc32015c-173f-4700-bd6c-02ddef13a969",
   "metadata": {},
   "outputs": [],
   "source": [
    "#1.Encapsulation , 2.Abstraction , 3.Inheritance 4.Polymorphism"
   ]
  },
  {
   "cell_type": "code",
   "execution_count": 10,
   "id": "27464f52-0911-4afc-95d9-05638e6efc19",
   "metadata": {},
   "outputs": [],
   "source": [
    "#Q3. Explain why the __init__() function is used. Give a suitable example."
   ]
  },
  {
   "cell_type": "code",
   "execution_count": 11,
   "id": "92b4ee74-1922-41f4-86d1-f6da1aef946a",
   "metadata": {},
   "outputs": [],
   "source": [
    "#__init__() function is a constructor method it is used to initialize the attributes of a objcet when it is created."
   ]
  },
  {
   "cell_type": "code",
   "execution_count": 13,
   "id": "f17b3ca3-232e-46d0-88f9-6afe9937ec63",
   "metadata": {},
   "outputs": [],
   "source": [
    "class Person:\n",
    "    def __init__(self,name,age):\n",
    "        self.name = name\n",
    "        self.age = age\n",
    "        \n",
    "    def introduce(self):\n",
    "        print(f\"Hi, my name is {self.name} and I am {self.age} years old.\")\n",
    "        "
   ]
  },
  {
   "cell_type": "code",
   "execution_count": 17,
   "id": "d79f0fe2-3b2c-4d33-80f1-2e641f54c276",
   "metadata": {},
   "outputs": [],
   "source": [
    "person1 = Person(\"yash\",20)\n",
    "person2 = Person(\"sudh\",25)"
   ]
  },
  {
   "cell_type": "code",
   "execution_count": 18,
   "id": "105599f0-bf38-4b96-ae48-586da63c8235",
   "metadata": {},
   "outputs": [
    {
     "name": "stdout",
     "output_type": "stream",
     "text": [
      "Person 1's name: yash, age: 20\n",
      "Person 2's name: sudh, age: 25\n"
     ]
    }
   ],
   "source": [
    "print(f\"Person 1's name: {person1.name}, age: {person1.age}\")\n",
    "print(f\"Person 2's name: {person2.name}, age: {person2.age}\")"
   ]
  },
  {
   "cell_type": "code",
   "execution_count": 19,
   "id": "1c0acf3f-5718-42c7-bf6f-6499a4f54c35",
   "metadata": {},
   "outputs": [
    {
     "name": "stdout",
     "output_type": "stream",
     "text": [
      "Hi, my name is yash and I am 20 years old.\n",
      "Hi, my name is sudh and I am 25 years old.\n"
     ]
    }
   ],
   "source": [
    "person1.introduce()\n",
    "person2.introduce()"
   ]
  },
  {
   "cell_type": "code",
   "execution_count": 20,
   "id": "8a3e5392-6833-4cae-afea-f0ba188110c4",
   "metadata": {},
   "outputs": [],
   "source": [
    "#Why self is used in OOPs?"
   ]
  },
  {
   "cell_type": "code",
   "execution_count": 21,
   "id": "7b92c751-a0aa-416a-9b38-274bd380673e",
   "metadata": {},
   "outputs": [],
   "source": [
    "#self is a convention used in Python to represent the instance of a class. It is the first parameter of any method defined within a class and is used to refer to the instance itself."
   ]
  },
  {
   "cell_type": "code",
   "execution_count": 22,
   "id": "663464e4-806a-48c3-9bef-581e0e45f397",
   "metadata": {},
   "outputs": [],
   "source": [
    "#Q5. What is inheritance? Give an example for each type of inheritance."
   ]
  },
  {
   "cell_type": "code",
   "execution_count": 23,
   "id": "16e92d3a-55f9-479a-be65-c2c81809bc97",
   "metadata": {},
   "outputs": [],
   "source": [
    "#Inheritance is a fundamental concept in object-oriented programming (OOP) that allows a class (called the subclass) to inherit attributes and methods from another class (called the superclass)."
   ]
  },
  {
   "cell_type": "code",
   "execution_count": 24,
   "id": "33e7685d-ec42-42c4-94ba-30ebf598e26f",
   "metadata": {},
   "outputs": [],
   "source": [
    "#single inderitance"
   ]
  },
  {
   "cell_type": "code",
   "execution_count": 26,
   "id": "693d46a3-06aa-44d6-a341-0f639931a6bb",
   "metadata": {},
   "outputs": [],
   "source": [
    "class pwskills:\n",
    "    def test1(self):\n",
    "        print(\"this is my test1\")\n",
    "\n",
    "class pwskills2(pwskills):\n",
    "    def test2(self):\n",
    "        print(\"this is my test2\")"
   ]
  },
  {
   "cell_type": "code",
   "execution_count": 27,
   "id": "6c646ee8-2c1d-42ee-8a6f-e24f9b093e37",
   "metadata": {},
   "outputs": [],
   "source": [
    "pwskills2 = pwskills2()"
   ]
  },
  {
   "cell_type": "code",
   "execution_count": 28,
   "id": "9208a73e-00cc-449c-b712-028c1000f8ae",
   "metadata": {},
   "outputs": [
    {
     "name": "stdout",
     "output_type": "stream",
     "text": [
      "this is my test1\n"
     ]
    }
   ],
   "source": [
    "pwskills2.test1()"
   ]
  },
  {
   "cell_type": "code",
   "execution_count": 29,
   "id": "480bc823-7349-4d88-a052-8465dc0ad3dc",
   "metadata": {},
   "outputs": [],
   "source": [
    "#Multilevel inheritance"
   ]
  },
  {
   "cell_type": "code",
   "execution_count": 30,
   "id": "bfd4ff47-dbbe-4c37-885d-5065c47484ed",
   "metadata": {},
   "outputs": [],
   "source": [
    "class pwskills:\n",
    "    def test1(self):\n",
    "        print(\"this is my test1\")\n",
    "\n",
    "class pwskills2(pwskills):\n",
    "    def test2(self):\n",
    "        print(\"this is my test2\")\n",
    "        \n",
    "class pwskills3(pwskills2):\n",
    "    def test3(self):\n",
    "        print(\"this is my test3\")"
   ]
  },
  {
   "cell_type": "code",
   "execution_count": 31,
   "id": "d6b7fe2b-f7ad-42f1-a082-fa5a5ef31617",
   "metadata": {},
   "outputs": [],
   "source": [
    "pwskills3 = pwskills3()"
   ]
  },
  {
   "cell_type": "code",
   "execution_count": 32,
   "id": "62a7d06a-6de2-4c1a-b5aa-d7ac33ace6da",
   "metadata": {},
   "outputs": [
    {
     "name": "stdout",
     "output_type": "stream",
     "text": [
      "this is my test1\n"
     ]
    }
   ],
   "source": [
    "pwskills3.test1()"
   ]
  },
  {
   "cell_type": "code",
   "execution_count": 45,
   "id": "d1450633-7482-439b-b087-79a43e35edd2",
   "metadata": {},
   "outputs": [],
   "source": [
    "#Hierarchical inheritance & multiple inheritance"
   ]
  },
  {
   "cell_type": "code",
   "execution_count": 40,
   "id": "7a01281c-83db-499b-ad0d-8d6dd19f58f3",
   "metadata": {},
   "outputs": [],
   "source": [
    "class pwskills:\n",
    "    def test1(self):\n",
    "        print(\"this is my test1\")\n",
    "\n",
    "class pwskills2(pwskills):\n",
    "    def test2(self):\n",
    "        print(\"this is my test2\")\n",
    "        \n",
    "class pwskills3(pwskills):\n",
    "    def test3(self):\n",
    "        print(\"this is my test3\")"
   ]
  },
  {
   "cell_type": "code",
   "execution_count": 41,
   "id": "8ada34d9-57f6-4a5c-8aae-30d6de27b00c",
   "metadata": {},
   "outputs": [],
   "source": [
    "pwskills2 = pwskills2()"
   ]
  },
  {
   "cell_type": "code",
   "execution_count": 42,
   "id": "c8a29245-cae3-404e-8115-91bafd89c759",
   "metadata": {},
   "outputs": [],
   "source": [
    "pwskills3 = pwskills3()"
   ]
  },
  {
   "cell_type": "code",
   "execution_count": 43,
   "id": "235d0525-4a25-4828-ab49-e5a0a98fa0a6",
   "metadata": {},
   "outputs": [
    {
     "name": "stdout",
     "output_type": "stream",
     "text": [
      "this is my test2\n"
     ]
    }
   ],
   "source": [
    "pwskills2.test2()"
   ]
  },
  {
   "cell_type": "code",
   "execution_count": 44,
   "id": "dacd10c0-96f8-4253-9462-2644920418e2",
   "metadata": {},
   "outputs": [
    {
     "name": "stdout",
     "output_type": "stream",
     "text": [
      "this is my test3\n"
     ]
    }
   ],
   "source": [
    "pwskills3.test3()"
   ]
  },
  {
   "cell_type": "code",
   "execution_count": 46,
   "id": "6c005eda-2798-429d-b0c6-f07e5156cca4",
   "metadata": {},
   "outputs": [],
   "source": [
    "#Hybrid"
   ]
  },
  {
   "cell_type": "code",
   "execution_count": 4,
   "id": "9cbe7573-cc1e-43c7-8d94-e6777a1a16eb",
   "metadata": {},
   "outputs": [],
   "source": [
    "class pwskills:\n",
    "    def test1(self):\n",
    "        print(\"this is my test1\")\n",
    "\n",
    "class pwskills2:\n",
    "    def test2(self):\n",
    "        print(\"this is my test2\")\n",
    "        \n",
    "class pwskills3(pwskills,pwskills2):\n",
    "    def test3(self):\n",
    "        print(\"this is my test3\")"
   ]
  },
  {
   "cell_type": "code",
   "execution_count": 6,
   "id": "baf7040e-4f27-406f-a0c6-19a036234574",
   "metadata": {},
   "outputs": [
    {
     "ename": "TypeError",
     "evalue": "'pwskills3' object is not callable",
     "output_type": "error",
     "traceback": [
      "\u001b[0;31m---------------------------------------------------------------------------\u001b[0m",
      "\u001b[0;31mTypeError\u001b[0m                                 Traceback (most recent call last)",
      "Cell \u001b[0;32mIn[6], line 1\u001b[0m\n\u001b[0;32m----> 1\u001b[0m pwskills3 \u001b[38;5;241m=\u001b[39m \u001b[43mpwskills3\u001b[49m\u001b[43m(\u001b[49m\u001b[43m)\u001b[49m\n",
      "\u001b[0;31mTypeError\u001b[0m: 'pwskills3' object is not callable"
     ]
    }
   ],
   "source": [
    "pwskills3 = pwskills3()"
   ]
  },
  {
   "cell_type": "code",
   "execution_count": 2,
   "id": "deee5e93-2c75-47a0-a416-3c0e3b4d3f70",
   "metadata": {},
   "outputs": [
    {
     "ename": "NameError",
     "evalue": "name 'pwskills3' is not defined",
     "output_type": "error",
     "traceback": [
      "\u001b[0;31m---------------------------------------------------------------------------\u001b[0m",
      "\u001b[0;31mNameError\u001b[0m                                 Traceback (most recent call last)",
      "Cell \u001b[0;32mIn[2], line 1\u001b[0m\n\u001b[0;32m----> 1\u001b[0m \u001b[43mpwskills3\u001b[49m\u001b[38;5;241m.\u001b[39mtest()\n",
      "\u001b[0;31mNameError\u001b[0m: name 'pwskills3' is not defined"
     ]
    }
   ],
   "source": [
    "pwskills3.test1()"
   ]
  },
  {
   "cell_type": "code",
   "execution_count": 3,
   "id": "5a24f374-c040-43e3-bf5d-c58c1691ab0a",
   "metadata": {},
   "outputs": [
    {
     "ename": "NameError",
     "evalue": "name 'pwskills3' is not defined",
     "output_type": "error",
     "traceback": [
      "\u001b[0;31m---------------------------------------------------------------------------\u001b[0m",
      "\u001b[0;31mNameError\u001b[0m                                 Traceback (most recent call last)",
      "Cell \u001b[0;32mIn[3], line 1\u001b[0m\n\u001b[0;32m----> 1\u001b[0m \u001b[43mpwskills3\u001b[49m\u001b[38;5;241m.\u001b[39mtest2()\n",
      "\u001b[0;31mNameError\u001b[0m: name 'pwskills3' is not defined"
     ]
    }
   ],
   "source": [
    "pwskills3.test2()"
   ]
  },
  {
   "cell_type": "code",
   "execution_count": null,
   "id": "516b68dd-d1c6-4abf-8685-6f6057f3e0d3",
   "metadata": {},
   "outputs": [],
   "source": []
  }
 ],
 "metadata": {
  "kernelspec": {
   "display_name": "Python 3 (ipykernel)",
   "language": "python",
   "name": "python3"
  },
  "language_info": {
   "codemirror_mode": {
    "name": "ipython",
    "version": 3
   },
   "file_extension": ".py",
   "mimetype": "text/x-python",
   "name": "python",
   "nbconvert_exporter": "python",
   "pygments_lexer": "ipython3",
   "version": "3.10.8"
  }
 },
 "nbformat": 4,
 "nbformat_minor": 5
}
