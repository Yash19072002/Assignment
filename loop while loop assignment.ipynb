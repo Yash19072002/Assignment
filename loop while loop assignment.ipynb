{
 "cells": [
  {
   "cell_type": "code",
   "execution_count": 1,
   "id": "ac4b8d17-7110-4e73-9fbc-2501b1a6c4c2",
   "metadata": {},
   "outputs": [],
   "source": [
    "#question1 = Print number from 1 to 5 using a while loop."
   ]
  },
  {
   "cell_type": "code",
   "execution_count": 3,
   "id": "53e81fc7-a84d-49ad-a0c9-74a72ed9fe8d",
   "metadata": {},
   "outputs": [
    {
     "name": "stdout",
     "output_type": "stream",
     "text": [
      "1\n",
      "2\n",
      "3\n",
      "4\n",
      "5\n"
     ]
    }
   ],
   "source": [
    "i = 1\n",
    "n = 5\n",
    "while n>=i:\n",
    "    print(i)\n",
    "    i = i + 1\n"
   ]
  },
  {
   "cell_type": "code",
   "execution_count": 4,
   "id": "cc6f064f-49c6-48af-879d-22b85a99c1ad",
   "metadata": {},
   "outputs": [],
   "source": [
    "#question 2 = calculate the sum of numbers from 1 to 10 using a while loop."
   ]
  },
  {
   "cell_type": "code",
   "execution_count": 7,
   "id": "0def259f-5309-461f-9f30-203bce89d94d",
   "metadata": {},
   "outputs": [
    {
     "name": "stdout",
     "output_type": "stream",
     "text": [
      "1\n",
      "2\n",
      "3\n",
      "4\n",
      "5\n",
      "6\n",
      "7\n",
      "8\n",
      "9\n",
      "10\n",
      "55\n"
     ]
    }
   ],
   "source": [
    "sum = 0 \n",
    "i = 1 \n",
    "while (i <= 10):\n",
    "    print(i)\n",
    "    sum = sum + i \n",
    "    i = i + 1 \n",
    "print(sum)"
   ]
  },
  {
   "cell_type": "code",
   "execution_count": 8,
   "id": "0fb61eba-c9c1-4c0c-9a82-f99a946f98dd",
   "metadata": {},
   "outputs": [],
   "source": [
    "#question 3 = Calculate the factorial of a number using a for loop."
   ]
  },
  {
   "cell_type": "code",
   "execution_count": 10,
   "id": "6f960b83-9242-4422-b14b-20ccd0e86bd6",
   "metadata": {},
   "outputs": [
    {
     "name": "stdin",
     "output_type": "stream",
     "text": [
      "Enter n: 5\n"
     ]
    },
    {
     "name": "stdout",
     "output_type": "stream",
     "text": [
      "Factorial of 5 is:120\n"
     ]
    }
   ],
   "source": [
    "n = int(input(\"Enter n:\")) \n",
    "fact = 1 \n",
    "for i in range(2, n+1): \n",
    "    fact *= i \n",
    "print(\"Factorial of {} is:{}\".format(n, fact)) \n"
   ]
  },
  {
   "cell_type": "code",
   "execution_count": 13,
   "id": "a9f34b58-1323-4f03-99d5-3980ea091c07",
   "metadata": {},
   "outputs": [],
   "source": [
    "#question 4 = count the number of vowels in a string using a for loop."
   ]
  },
  {
   "cell_type": "code",
   "execution_count": 2,
   "id": "eb2ace98-c27e-45fb-b2fd-bf59c51dbf51",
   "metadata": {},
   "outputs": [
    {
     "data": {
      "text/plain": [
       "1"
      ]
     },
     "execution_count": 2,
     "metadata": {},
     "output_type": "execute_result"
    }
   ],
   "source": [
    "s = \"pwskills\"\n",
    "vowels = 'aeiouAIEOU'\n",
    "count = 0\n",
    "for char in s:\n",
    "    if char in vowels:\n",
    "        count +=1\n",
    "count"
   ]
  },
  {
   "cell_type": "code",
   "execution_count": 3,
   "id": "05f21018-8afd-414b-9d52-e5f0d23c1a90",
   "metadata": {},
   "outputs": [],
   "source": [
    " #question 5 = Print a pattern using nested loop"
   ]
  },
  {
   "cell_type": "code",
   "execution_count": 7,
   "id": "3be65aad-65a3-4e7f-addb-892d586f1d1b",
   "metadata": {},
   "outputs": [
    {
     "name": "stdout",
     "output_type": "stream",
     "text": [
      "* \n",
      "* * \n",
      "* * * \n",
      "* * * * \n",
      "* * * * * \n"
     ]
    }
   ],
   "source": [
    "rows =5\n",
    "for i in range(1, rows + 1):\n",
    "    for j in range(1,i+1):\n",
    "        print(\"*\",end=\" \")\n",
    "    print()"
   ]
  },
  {
   "cell_type": "code",
   "execution_count": 8,
   "id": "0fc9e789-a25b-4138-bebb-051045631ba2",
   "metadata": {},
   "outputs": [],
   "source": [
    "#question 6 = Generate a miltiplication table using nested loops."
   ]
  },
  {
   "cell_type": "code",
   "execution_count": 9,
   "id": "9aa385db-f9a2-4bd1-a156-b335d1cb7a0a",
   "metadata": {},
   "outputs": [
    {
     "name": "stdout",
     "output_type": "stream",
     "text": [
      "1\t2\t3\t4\t5\t2\t4\t6\t8\t10\t3\t6\t9\t12\t15\t4\t8\t12\t16\t20\t5\t10\t15\t20\t25\t"
     ]
    }
   ],
   "source": [
    "n = 5\n",
    "for i in range(1,n+1):\n",
    "    for j in range(1,n+1):\n",
    "        print(i*j,end='\\t')\n",
    "        "
   ]
  },
  {
   "cell_type": "code",
   "execution_count": null,
   "id": "d9c19453-286a-484d-a0f7-817b3b3861bf",
   "metadata": {},
   "outputs": [],
   "source": []
  }
 ],
 "metadata": {
  "kernelspec": {
   "display_name": "Python 3 (ipykernel)",
   "language": "python",
   "name": "python3"
  },
  "language_info": {
   "codemirror_mode": {
    "name": "ipython",
    "version": 3
   },
   "file_extension": ".py",
   "mimetype": "text/x-python",
   "name": "python",
   "nbconvert_exporter": "python",
   "pygments_lexer": "ipython3",
   "version": "3.10.8"
  }
 },
 "nbformat": 4,
 "nbformat_minor": 5
}
