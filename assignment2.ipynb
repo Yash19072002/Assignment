{
 "cells": [
  {
   "cell_type": "code",
   "execution_count": 1,
   "id": "7333c6c9-2f83-4f3a-91fc-cd593c06a8fc",
   "metadata": {},
   "outputs": [],
   "source": [
    "#Q1. How do you comment code in Python? What are the different types of comments?"
   ]
  },
  {
   "cell_type": "code",
   "execution_count": 2,
   "id": "fe07d818-c09c-417e-9e1f-689ee4af500f",
   "metadata": {},
   "outputs": [],
   "source": [
    "# is used for comment code in python . there are two comments # and ''' ''' "
   ]
  },
  {
   "cell_type": "code",
   "execution_count": 3,
   "id": "cffae3de-e296-49d9-8a7a-aeaf95845c45",
   "metadata": {},
   "outputs": [],
   "source": [
    "#Q2. What are variables in Python? How do you declare and assign values to variables?"
   ]
  },
  {
   "cell_type": "code",
   "execution_count": 11,
   "id": "aa9e9d45-918b-4c6f-9995-979b5b1f87f4",
   "metadata": {},
   "outputs": [],
   "source": [
    "#variable are the containers that are used to store data. "
   ]
  },
  {
   "cell_type": "code",
   "execution_count": 12,
   "id": "0be10f0d-2291-4085-b4d7-111e2db8d7b4",
   "metadata": {},
   "outputs": [],
   "source": [
    "#integer"
   ]
  },
  {
   "cell_type": "code",
   "execution_count": 13,
   "id": "189ac3dd-93d0-4135-8781-fe7f421edf31",
   "metadata": {},
   "outputs": [],
   "source": [
    "a = 45"
   ]
  },
  {
   "cell_type": "code",
   "execution_count": 14,
   "id": "84a58876-531f-401f-81ce-88294b632ead",
   "metadata": {},
   "outputs": [],
   "source": [
    "#string"
   ]
  },
  {
   "cell_type": "code",
   "execution_count": 15,
   "id": "f3a7a5ca-4030-4814-a506-b82054b319d4",
   "metadata": {},
   "outputs": [],
   "source": [
    "b = \"yash\""
   ]
  },
  {
   "cell_type": "code",
   "execution_count": 16,
   "id": "7906132a-5078-4f17-ad01-52ad97c8cc16",
   "metadata": {},
   "outputs": [],
   "source": [
    "#float"
   ]
  },
  {
   "cell_type": "code",
   "execution_count": 17,
   "id": "8d376a0d-a588-4cc0-99d2-e02d05e918bc",
   "metadata": {},
   "outputs": [],
   "source": [
    "c = 43.2"
   ]
  },
  {
   "cell_type": "code",
   "execution_count": 18,
   "id": "10a31c57-b77f-447e-965e-4a67e88871c1",
   "metadata": {},
   "outputs": [],
   "source": [
    "#boolean"
   ]
  },
  {
   "cell_type": "code",
   "execution_count": 19,
   "id": "022cd6b8-2fd8-4ed2-9476-73a78de03cde",
   "metadata": {},
   "outputs": [],
   "source": [
    "d = True"
   ]
  },
  {
   "cell_type": "code",
   "execution_count": 20,
   "id": "d0c8951d-d0be-43e6-a2f6-10e9cabefc29",
   "metadata": {},
   "outputs": [],
   "source": [
    "# complex"
   ]
  },
  {
   "cell_type": "code",
   "execution_count": 21,
   "id": "04ec65cc-4158-49b6-b7ca-8dd480b9794d",
   "metadata": {},
   "outputs": [],
   "source": [
    "e = 4 + 2j"
   ]
  },
  {
   "cell_type": "code",
   "execution_count": 5,
   "id": "eefdf715-9be4-487a-8799-27efc6a035d1",
   "metadata": {},
   "outputs": [],
   "source": [
    "#for declare and assign value"
   ]
  },
  {
   "cell_type": "code",
   "execution_count": 9,
   "id": "1e436663-6853-4533-9715-2bf270b95a03",
   "metadata": {},
   "outputs": [],
   "source": [
    "a = 45"
   ]
  },
  {
   "cell_type": "code",
   "execution_count": 22,
   "id": "8c3f914a-2e2b-47a3-a10f-0729befcec39",
   "metadata": {},
   "outputs": [],
   "source": [
    "#Q3. How do you convert one data type to another in Python?"
   ]
  },
  {
   "cell_type": "code",
   "execution_count": 23,
   "id": "7fae6aea-3f6e-4047-a7b7-3e1fcc337ed6",
   "metadata": {},
   "outputs": [],
   "source": [
    "a = 45"
   ]
  },
  {
   "cell_type": "code",
   "execution_count": 24,
   "id": "64612597-2e4a-42dc-9581-8597963e90e0",
   "metadata": {},
   "outputs": [
    {
     "data": {
      "text/plain": [
       "'45'"
      ]
     },
     "execution_count": 24,
     "metadata": {},
     "output_type": "execute_result"
    }
   ],
   "source": [
    "str(a)"
   ]
  },
  {
   "cell_type": "code",
   "execution_count": 25,
   "id": "02e52dc2-5991-4bc9-b1b4-494a9c6dfc8d",
   "metadata": {},
   "outputs": [],
   "source": [
    "b = True"
   ]
  },
  {
   "cell_type": "code",
   "execution_count": 26,
   "id": "eeaf28da-7a81-43f3-beb7-aa6c7a8de3cc",
   "metadata": {},
   "outputs": [
    {
     "data": {
      "text/plain": [
       "'True'"
      ]
     },
     "execution_count": 26,
     "metadata": {},
     "output_type": "execute_result"
    }
   ],
   "source": [
    "str(b)"
   ]
  },
  {
   "cell_type": "code",
   "execution_count": 27,
   "id": "290558f2-50d8-43cf-af72-20cc90899674",
   "metadata": {},
   "outputs": [
    {
     "data": {
      "text/plain": [
       "1"
      ]
     },
     "execution_count": 27,
     "metadata": {},
     "output_type": "execute_result"
    }
   ],
   "source": [
    "int(b)"
   ]
  },
  {
   "cell_type": "code",
   "execution_count": 28,
   "id": "bd62cd50-bd5a-4827-8e58-9824c4219dd9",
   "metadata": {},
   "outputs": [],
   "source": [
    "# and many more str() is used for convert to string int() is used for convert to int .and many more like float() list() bool()"
   ]
  },
  {
   "cell_type": "code",
   "execution_count": 29,
   "id": "72e9bcb0-da70-481a-b09b-1ffa1f377e6b",
   "metadata": {},
   "outputs": [],
   "source": [
    "#Q4. How do you write and execute a Python script from the command line?"
   ]
  },
  {
   "cell_type": "code",
   "execution_count": 30,
   "id": "2841c9fd-62ae-4073-a86d-00c32e3c4534",
   "metadata": {},
   "outputs": [
    {
     "data": {
      "text/plain": [
       "'open a text editor\\n   write your python code\\n   save the file\\n   open terminal\\n   navigate to the directory '"
      ]
     },
     "execution_count": 30,
     "metadata": {},
     "output_type": "execute_result"
    }
   ],
   "source": [
    "'''open a text editor\n",
    "   write your python code\n",
    "   save the file\n",
    "   open terminal\n",
    "   navigate to the directory '''\n",
    "   "
   ]
  },
  {
   "cell_type": "code",
   "execution_count": 31,
   "id": "250f0e51-75c4-4e57-9882-518d334ed512",
   "metadata": {},
   "outputs": [],
   "source": [
    "#Q5. Given a list my_list = [1, 2, 3, 4, 5], write the code to slice the list and obtain the sub-list [2, 3]."
   ]
  },
  {
   "cell_type": "code",
   "execution_count": 32,
   "id": "dde532a1-0447-4973-b0ce-b8395c09ea1d",
   "metadata": {},
   "outputs": [],
   "source": [
    "my_list = [1,2,3,4,5]"
   ]
  },
  {
   "cell_type": "code",
   "execution_count": 34,
   "id": "cb149ecb-9e9d-4a88-9396-7071becf1710",
   "metadata": {},
   "outputs": [
    {
     "data": {
      "text/plain": [
       "[2, 3]"
      ]
     },
     "execution_count": 34,
     "metadata": {},
     "output_type": "execute_result"
    }
   ],
   "source": [
    "my_list[1:3:1]"
   ]
  },
  {
   "cell_type": "code",
   "execution_count": 35,
   "id": "5154bad0-a2d6-43f4-9621-a133e480f49a",
   "metadata": {},
   "outputs": [],
   "source": [
    "#Q6. What is a complex number in mathematics, and how is it represented in Python?"
   ]
  },
  {
   "cell_type": "code",
   "execution_count": 36,
   "id": "6e096a59-18cf-480f-a77b-508afd36339c",
   "metadata": {},
   "outputs": [],
   "source": [
    "# a complex number is a number that can be expressed in the form of a + bi where as a and b are real numbers and i is imaginary number"
   ]
  },
  {
   "cell_type": "code",
   "execution_count": 37,
   "id": "9ab29436-238a-4635-9487-ed3503eca5f9",
   "metadata": {},
   "outputs": [],
   "source": [
    "a = 4 + 5j"
   ]
  },
  {
   "cell_type": "code",
   "execution_count": 38,
   "id": "c3a064e2-2df0-4b80-8b6d-cdd21c366e97",
   "metadata": {},
   "outputs": [
    {
     "data": {
      "text/plain": [
       "5.0"
      ]
     },
     "execution_count": 38,
     "metadata": {},
     "output_type": "execute_result"
    }
   ],
   "source": [
    "a.imag"
   ]
  },
  {
   "cell_type": "code",
   "execution_count": 39,
   "id": "37883163-c423-46bf-81b3-cbf33ba1ec35",
   "metadata": {},
   "outputs": [
    {
     "data": {
      "text/plain": [
       "4.0"
      ]
     },
     "execution_count": 39,
     "metadata": {},
     "output_type": "execute_result"
    }
   ],
   "source": [
    "a.real"
   ]
  },
  {
   "cell_type": "code",
   "execution_count": 40,
   "id": "26723b4c-ecf8-4138-b31c-d92dc84ee667",
   "metadata": {},
   "outputs": [],
   "source": [
    "#Q7. What is the correct way to declare a variable named age and assign the value 25 to it?"
   ]
  },
  {
   "cell_type": "code",
   "execution_count": 41,
   "id": "ebe6d1d1-a0f0-4a54-90fb-96c2541cf410",
   "metadata": {},
   "outputs": [],
   "source": [
    "age = 25"
   ]
  },
  {
   "cell_type": "code",
   "execution_count": 42,
   "id": "1c371281-0163-47f2-8600-8e83a2f3ce0f",
   "metadata": {},
   "outputs": [],
   "source": [
    "#Q8. Declare a variable named price and assign the value 9.99 to it. What data type does this variable\n",
    "#belong to?"
   ]
  },
  {
   "cell_type": "code",
   "execution_count": 43,
   "id": "f5f73cab-4536-4dd7-9f89-364895dd8c08",
   "metadata": {},
   "outputs": [],
   "source": [
    "price = 9.99"
   ]
  },
  {
   "cell_type": "code",
   "execution_count": 44,
   "id": "aa450b02-8646-4124-b6d1-68c36c4811da",
   "metadata": {},
   "outputs": [
    {
     "data": {
      "text/plain": [
       "float"
      ]
     },
     "execution_count": 44,
     "metadata": {},
     "output_type": "execute_result"
    }
   ],
   "source": [
    "type(price)"
   ]
  },
  {
   "cell_type": "code",
   "execution_count": 45,
   "id": "ecc71e0f-a828-4006-b248-483d9e253f1d",
   "metadata": {},
   "outputs": [],
   "source": [
    "#belongs to float data type"
   ]
  },
  {
   "cell_type": "code",
   "execution_count": 47,
   "id": "9f1e739e-24d7-48e3-b293-9f17237595c5",
   "metadata": {},
   "outputs": [],
   "source": [
    "#Q9. Create a variable named name and assign your full name to it as a string. How would you print the\n",
    "##alue of this variable?"
   ]
  },
  {
   "cell_type": "code",
   "execution_count": 48,
   "id": "4b3d96ee-02cc-4d7c-b9af-d756c8ad7623",
   "metadata": {},
   "outputs": [],
   "source": [
    "name = \"yash negi\""
   ]
  },
  {
   "cell_type": "code",
   "execution_count": 49,
   "id": "e6abcde5-138e-4224-9457-713f199def0c",
   "metadata": {},
   "outputs": [
    {
     "name": "stdout",
     "output_type": "stream",
     "text": [
      "yash negi\n"
     ]
    }
   ],
   "source": [
    "print(name)"
   ]
  },
  {
   "cell_type": "code",
   "execution_count": 50,
   "id": "c359a20e-b854-4586-9757-59834826db0c",
   "metadata": {},
   "outputs": [],
   "source": [
    "#Q10. Given the string \"Hello, World!\", extract the substring \"World\"."
   ]
  },
  {
   "cell_type": "code",
   "execution_count": 51,
   "id": "be7a2318-64a8-46f5-98b6-8c62f7112713",
   "metadata": {},
   "outputs": [],
   "source": [
    "s = \"Hello , World!\""
   ]
  },
  {
   "cell_type": "code",
   "execution_count": 52,
   "id": "b87cba30-b2e7-4eb0-ac77-80754ff961b4",
   "metadata": {},
   "outputs": [
    {
     "data": {
      "text/plain": [
       "'World'"
      ]
     },
     "execution_count": 52,
     "metadata": {},
     "output_type": "execute_result"
    }
   ],
   "source": [
    "s[8:13:1]"
   ]
  },
  {
   "cell_type": "code",
   "execution_count": 53,
   "id": "0b671f4c-3940-44f9-8b20-410608fc5306",
   "metadata": {},
   "outputs": [],
   "source": [
    "#Q11. Create a variable named \"is_student\" and assign it a boolean value indicating whether you are\n",
    "#currently a student or not."
   ]
  },
  {
   "cell_type": "code",
   "execution_count": 54,
   "id": "538f48cc-6d0d-4938-861e-b10ef3eb54ad",
   "metadata": {},
   "outputs": [],
   "source": [
    "is_student = True"
   ]
  },
  {
   "cell_type": "code",
   "execution_count": null,
   "id": "49c92f84-83a7-453b-b3d9-138bd3f8069e",
   "metadata": {},
   "outputs": [],
   "source": []
  }
 ],
 "metadata": {
  "kernelspec": {
   "display_name": "Python 3 (ipykernel)",
   "language": "python",
   "name": "python3"
  },
  "language_info": {
   "codemirror_mode": {
    "name": "ipython",
    "version": 3
   },
   "file_extension": ".py",
   "mimetype": "text/x-python",
   "name": "python",
   "nbconvert_exporter": "python",
   "pygments_lexer": "ipython3",
   "version": "3.10.8"
  }
 },
 "nbformat": 4,
 "nbformat_minor": 5
}
