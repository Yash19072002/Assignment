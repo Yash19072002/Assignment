{
 "cells": [
  {
   "cell_type": "code",
   "execution_count": 1,
   "id": "64e4503a-fb88-4851-8789-624117cde211",
   "metadata": {},
   "outputs": [],
   "source": [
    "#Which keyword is used to create a function?  Create a function to return a list of odd numbers in a range of 1 to 25 "
   ]
  },
  {
   "cell_type": "code",
   "execution_count": 2,
   "id": "0cbaee38-aa26-46c3-ad54-098ee93bd178",
   "metadata": {},
   "outputs": [],
   "source": [
    "#ans 1 = def is used to create a function "
   ]
  },
  {
   "cell_type": "code",
   "execution_count": 10,
   "id": "df82a49c-72a7-45a1-9756-b3f99efc5bed",
   "metadata": {},
   "outputs": [],
   "source": [
    "def odd_no():\n",
    "    odd_no =[i for i in range(1,26) if i%2!=0]\n",
    "    return odd_no"
   ]
  },
  {
   "cell_type": "code",
   "execution_count": 12,
   "id": "ae79c768-fa64-41a6-aec9-80298964dfe4",
   "metadata": {},
   "outputs": [
    {
     "name": "stdout",
     "output_type": "stream",
     "text": [
      "[1, 3, 5, 7, 9, 11, 13, 15, 17, 19, 21, 23, 25]\n"
     ]
    }
   ],
   "source": [
    "odd_list = odd_no()\n",
    "print(odd_list)"
   ]
  },
  {
   "cell_type": "code",
   "execution_count": 13,
   "id": "b67921f5-a688-4000-9d5d-f46b14d704e8",
   "metadata": {},
   "outputs": [],
   "source": [
    "#Q2 Why *args and **kwargs is used in some functions? Create a function each for *args and **kwargs to demonstrate their use."
   ]
  },
  {
   "cell_type": "code",
   "execution_count": 14,
   "id": "d1c16bb3-fd55-46fa-b71d-b907a03ee85f",
   "metadata": {},
   "outputs": [],
   "source": [
    "# ans Used to store n number of argument *args type = tuple and **kwargs type = dictionary"
   ]
  },
  {
   "cell_type": "code",
   "execution_count": 15,
   "id": "549c4458-e4f3-4010-b4fa-19b03e940db7",
   "metadata": {},
   "outputs": [],
   "source": [
    "def for_args(*args):\n",
    "    return args"
   ]
  },
  {
   "cell_type": "code",
   "execution_count": 17,
   "id": "b924de42-4681-4f7a-9f2d-f1ab07a8f0fd",
   "metadata": {},
   "outputs": [
    {
     "data": {
      "text/plain": [
       "(1, 'yash', (5+2j), True)"
      ]
     },
     "execution_count": 17,
     "metadata": {},
     "output_type": "execute_result"
    }
   ],
   "source": [
    "for_args(1,\"yash\",5+2j,True)"
   ]
  },
  {
   "cell_type": "code",
   "execution_count": 22,
   "id": "6362efaf-871e-44f2-b0e0-8ecc6df25cc2",
   "metadata": {},
   "outputs": [],
   "source": [
    "def for_kwargs(**kwargs):\n",
    "    return kwargs"
   ]
  },
  {
   "cell_type": "code",
   "execution_count": 24,
   "id": "e0cc2497-6b51-4fb1-a4c5-ebe6d4829a22",
   "metadata": {},
   "outputs": [
    {
     "data": {
      "text/plain": [
       "{'a': 'yash', 'b': 45.3, 'c': [2, 5, 7, 5]}"
      ]
     },
     "execution_count": 24,
     "metadata": {},
     "output_type": "execute_result"
    }
   ],
   "source": [
    "for_kwargs(a =\"yash\" , b = 45.3 , c = [2,5,7,5])"
   ]
  },
  {
   "cell_type": "code",
   "execution_count": 25,
   "id": "5776da9e-8dba-4ecf-9bf0-88167793d00e",
   "metadata": {},
   "outputs": [],
   "source": [
    "#What is an iterator in python? Name the method used to initialise the iterator object and the method used for iteration.Use these methods to print the first five elements of the given list [2,4,6,8,10,12,14,16,18,20]."
   ]
  },
  {
   "cell_type": "code",
   "execution_count": 26,
   "id": "a88ac57f-3c5c-470f-82ca-b2790915f8f7",
   "metadata": {},
   "outputs": [],
   "source": [
    "#iterator is an object that uses two function iter() and next() , for initialise the iterator object it use iter() function and for iteration it uses next()."
   ]
  },
  {
   "cell_type": "code",
   "execution_count": 27,
   "id": "4e9d4e13-5bbb-4aba-aa81-aea6c0cdbbc7",
   "metadata": {},
   "outputs": [],
   "source": [
    "l = [2,4,6,8,10,12,14,16,18,20]"
   ]
  },
  {
   "cell_type": "code",
   "execution_count": 28,
   "id": "f2c59119-8d3d-414a-8ab5-b4a7434e2582",
   "metadata": {},
   "outputs": [],
   "source": [
    "l1 = iter(l)"
   ]
  },
  {
   "cell_type": "code",
   "execution_count": 29,
   "id": "10099890-801b-4b99-a0f1-22774debb9a3",
   "metadata": {},
   "outputs": [
    {
     "data": {
      "text/plain": [
       "2"
      ]
     },
     "execution_count": 29,
     "metadata": {},
     "output_type": "execute_result"
    }
   ],
   "source": [
    "next(l1)"
   ]
  },
  {
   "cell_type": "code",
   "execution_count": 31,
   "id": "ffd9457b-e6cd-4033-aa55-9a8238ed91ea",
   "metadata": {},
   "outputs": [
    {
     "data": {
      "text/plain": [
       "4"
      ]
     },
     "execution_count": 31,
     "metadata": {},
     "output_type": "execute_result"
    }
   ],
   "source": [
    "next(l1)"
   ]
  },
  {
   "cell_type": "code",
   "execution_count": 32,
   "id": "aef004a9-beea-4c3f-931e-89d6610fda62",
   "metadata": {},
   "outputs": [
    {
     "data": {
      "text/plain": [
       "6"
      ]
     },
     "execution_count": 32,
     "metadata": {},
     "output_type": "execute_result"
    }
   ],
   "source": [
    "next(l1)"
   ]
  },
  {
   "cell_type": "code",
   "execution_count": 33,
   "id": "1e999d6a-a8cf-47f0-888c-c8cb31d54a10",
   "metadata": {},
   "outputs": [
    {
     "data": {
      "text/plain": [
       "8"
      ]
     },
     "execution_count": 33,
     "metadata": {},
     "output_type": "execute_result"
    }
   ],
   "source": [
    "next(l1)"
   ]
  },
  {
   "cell_type": "code",
   "execution_count": 34,
   "id": "5e7bbcaa-cc7d-4214-b319-2e966d816c7b",
   "metadata": {},
   "outputs": [
    {
     "data": {
      "text/plain": [
       "10"
      ]
     },
     "execution_count": 34,
     "metadata": {},
     "output_type": "execute_result"
    }
   ],
   "source": [
    "next(l1)"
   ]
  },
  {
   "cell_type": "code",
   "execution_count": 35,
   "id": "e6dd36f8-c5b8-441e-9643-5baaab4ba61e",
   "metadata": {},
   "outputs": [
    {
     "data": {
      "text/plain": [
       "list_iterator"
      ]
     },
     "execution_count": 35,
     "metadata": {},
     "output_type": "execute_result"
    }
   ],
   "source": [
    "type(l1)"
   ]
  },
  {
   "cell_type": "code",
   "execution_count": 36,
   "id": "b6d8bdf9-2820-4c5d-8698-967f729c6e97",
   "metadata": {},
   "outputs": [],
   "source": [
    "#Q4 What is a generator function in python? why yeild keywords is used? Give a example of a generator function."
   ]
  },
  {
   "cell_type": "code",
   "execution_count": 37,
   "id": "cd650e96-d965-4ee5-96ca-ed620af86a3d",
   "metadata": {},
   "outputs": [],
   "source": [
    "#generator function uses yeild keyword instead of return to produce a sequence of values. it is memory efficient for large datasets."
   ]
  },
  {
   "cell_type": "code",
   "execution_count": 38,
   "id": "6912900c-07e5-4b36-ad0e-0dabc259353c",
   "metadata": {},
   "outputs": [],
   "source": [
    "def count_test(n):\n",
    "    count = 1\n",
    "    while count < n :\n",
    "        yield count\n",
    "        count = count + 1"
   ]
  },
  {
   "cell_type": "code",
   "execution_count": 39,
   "id": "f726db40-469c-4159-a6e9-51a674d4c4f9",
   "metadata": {},
   "outputs": [],
   "source": [
    "c = count_test(10)"
   ]
  },
  {
   "cell_type": "code",
   "execution_count": 40,
   "id": "5d6e25f3-0cf9-4e91-8ed2-1049cfd20626",
   "metadata": {},
   "outputs": [
    {
     "name": "stdout",
     "output_type": "stream",
     "text": [
      "1\n",
      "2\n",
      "3\n",
      "4\n",
      "5\n",
      "6\n",
      "7\n",
      "8\n",
      "9\n"
     ]
    }
   ],
   "source": [
    "for i in c :\n",
    "    print(i)"
   ]
  },
  {
   "cell_type": "code",
   "execution_count": 42,
   "id": "e9d932a7-e44b-4eba-bf7e-96799e9a4f85",
   "metadata": {},
   "outputs": [],
   "source": [
    "#Q5 Create a generator function for prime numbers less than 1000. Use the next() method to print the first 20 prime numbers."
   ]
  },
  {
   "cell_type": "code",
   "execution_count": 70,
   "id": "3059a58e-e4f5-4d0f-8d94-4f5517711c62",
   "metadata": {},
   "outputs": [],
   "source": [
    "def prime(n):\n",
    "    if n < 2:\n",
    "        return False\n",
    "    for i in range(2, int(n**0.5) + 1):\n",
    "        if n % i == 0:\n",
    "            return False\n",
    "        return True\n",
    "   \n",
    "    "
   ]
  },
  {
   "cell_type": "code",
   "execution_count": 71,
   "id": "b1adcf96-9b8d-4d99-a61f-1536a645db7d",
   "metadata": {},
   "outputs": [],
   "source": [
    " def prime_generator():\n",
    "    no = 2\n",
    "    while True:\n",
    "        if prime(no):\n",
    "            yield no\n",
    "        no += 1"
   ]
  },
  {
   "cell_type": "code",
   "execution_count": 72,
   "id": "836bf01b-24cc-4ad0-aaa9-4cbd7ddb704d",
   "metadata": {},
   "outputs": [],
   "source": [
    "prime_gen = prime_generator()"
   ]
  },
  {
   "cell_type": "code",
   "execution_count": 73,
   "id": "09bf711b-d999-4b9c-b0e8-316300c5e832",
   "metadata": {},
   "outputs": [
    {
     "name": "stdout",
     "output_type": "stream",
     "text": [
      "5\n",
      "7\n",
      "9\n",
      "11\n",
      "13\n",
      "15\n",
      "17\n",
      "19\n",
      "21\n",
      "23\n",
      "25\n",
      "27\n",
      "29\n",
      "31\n",
      "33\n",
      "35\n",
      "37\n",
      "39\n",
      "41\n",
      "43\n"
     ]
    }
   ],
   "source": [
    "for _ in range(20):\n",
    "    print(next(prime_gen))"
   ]
  },
  {
   "cell_type": "code",
   "execution_count": 74,
   "id": "7ac689eb-b24b-4829-94fa-07c07e9dff9c",
   "metadata": {},
   "outputs": [],
   "source": [
    "#Q6 Write a python program to print the first 10 fibonacci numbers using a while loop."
   ]
  },
  {
   "cell_type": "code",
   "execution_count": 75,
   "id": "e1f6038e-114f-4ce3-9f41-3bca5d908e85",
   "metadata": {},
   "outputs": [],
   "source": [
    "def fib_no():\n",
    "    a,b = 0,1\n",
    "    while True:\n",
    "        yield a \n",
    "        a,b=b,a+b"
   ]
  },
  {
   "cell_type": "code",
   "execution_count": 76,
   "id": "fb4ebcd8-0116-4b50-99ce-5c1c72afcebb",
   "metadata": {},
   "outputs": [],
   "source": [
    "fib = fib_no()"
   ]
  },
  {
   "cell_type": "code",
   "execution_count": 77,
   "id": "0e4f1b2b-4173-4bd8-82f7-fe82b29d81ca",
   "metadata": {},
   "outputs": [
    {
     "name": "stdout",
     "output_type": "stream",
     "text": [
      "0\n",
      "1\n",
      "1\n",
      "2\n",
      "3\n",
      "5\n",
      "8\n",
      "13\n",
      "21\n",
      "34\n"
     ]
    }
   ],
   "source": [
    "for i in range(10):\n",
    "    print(next(fib))"
   ]
  },
  {
   "cell_type": "code",
   "execution_count": 78,
   "id": "5ce86e60-9534-4359-a0d4-7dc82f774f2b",
   "metadata": {},
   "outputs": [],
   "source": [
    "#Q7 Write a List comprehension to iterate through the given string: 'pwskills'.  Expected output: ['p','w','s','k','i','l','l','s']"
   ]
  },
  {
   "cell_type": "code",
   "execution_count": 79,
   "id": "c77f17ff-5e3a-4b58-8d94-22d4b903d5e5",
   "metadata": {},
   "outputs": [],
   "source": [
    "s = \"pwskills\""
   ]
  },
  {
   "cell_type": "code",
   "execution_count": 85,
   "id": "3b451361-c1c9-47e1-9855-60be18f2092c",
   "metadata": {},
   "outputs": [],
   "source": [
    "l=[]\n",
    "for i in s:\n",
    "    l.append(i)"
   ]
  },
  {
   "cell_type": "code",
   "execution_count": 86,
   "id": "33cc88ef-6d12-45fe-a767-457f1a60490c",
   "metadata": {},
   "outputs": [
    {
     "data": {
      "text/plain": [
       "['p', 'w', 's', 'k', 'i', 'l', 'l', 's']"
      ]
     },
     "execution_count": 86,
     "metadata": {},
     "output_type": "execute_result"
    }
   ],
   "source": [
    "l"
   ]
  },
  {
   "cell_type": "code",
   "execution_count": 87,
   "id": "5216b9c8-fbd5-4b8a-9b2e-57a5051ea004",
   "metadata": {},
   "outputs": [],
   "source": [
    "#Q8 Write a python program to check whether a given number is Palindrome or not using a while loop."
   ]
  },
  {
   "cell_type": "code",
   "execution_count": 88,
   "id": "b5bb8158-5321-4db2-ad9a-d4e55e3d0beb",
   "metadata": {},
   "outputs": [],
   "source": [
    "def is_palindrome(number):\n",
    "    original_number = number\n",
    "    reversed_number = 0\n",
    "\n",
    "    while number > 0:\n",
    "        digit = number % 10\n",
    "        reversed_number = reversed_number * 10 + digit\n",
    "        number = number // 10\n",
    "\n",
    "    return original_number == reversed_number"
   ]
  },
  {
   "cell_type": "code",
   "execution_count": 89,
   "id": "43e372eb-42b3-404c-b4dd-4ee432a6eaec",
   "metadata": {},
   "outputs": [
    {
     "name": "stdin",
     "output_type": "stream",
     "text": [
      "Enter a number:  20\n"
     ]
    }
   ],
   "source": [
    "num = int(input(\"Enter a number: \"))"
   ]
  },
  {
   "cell_type": "code",
   "execution_count": 90,
   "id": "de8010ef-a1de-4a9a-8941-34ca39c7ab5b",
   "metadata": {},
   "outputs": [
    {
     "name": "stdout",
     "output_type": "stream",
     "text": [
      "20 is not a palindrome\n"
     ]
    }
   ],
   "source": [
    "if is_palindrome(num):\n",
    "    print(f\"{num} is a palindrome\")\n",
    "else:\n",
    "    print(f\"{num} is not a palindrome\")"
   ]
  },
  {
   "cell_type": "code",
   "execution_count": 91,
   "id": "248107da-3c53-4c3d-8e97-fa9a815f694a",
   "metadata": {},
   "outputs": [],
   "source": [
    "#Q9 Write a code to print odd numbers from 1 to 100 using list comprehension."
   ]
  },
  {
   "cell_type": "code",
   "execution_count": 92,
   "id": "38ef94b8-83aa-497b-9664-acd73b32b924",
   "metadata": {},
   "outputs": [
    {
     "data": {
      "text/plain": [
       "range(1, 100)"
      ]
     },
     "execution_count": 92,
     "metadata": {},
     "output_type": "execute_result"
    }
   ],
   "source": [
    "range(1,100)"
   ]
  },
  {
   "cell_type": "code",
   "execution_count": 100,
   "id": "c318974b-d563-4a98-9a33-55037af59915",
   "metadata": {},
   "outputs": [],
   "source": [
    "l =[]\n",
    "for i in range(1,100):\n",
    "    if i%2!=0 :\n",
    "        l.append(i)"
   ]
  },
  {
   "cell_type": "code",
   "execution_count": 101,
   "id": "adaa4c8a-39ba-4308-a1dd-a5cd3f59c41a",
   "metadata": {},
   "outputs": [
    {
     "data": {
      "text/plain": [
       "[1,\n",
       " 3,\n",
       " 5,\n",
       " 7,\n",
       " 9,\n",
       " 11,\n",
       " 13,\n",
       " 15,\n",
       " 17,\n",
       " 19,\n",
       " 21,\n",
       " 23,\n",
       " 25,\n",
       " 27,\n",
       " 29,\n",
       " 31,\n",
       " 33,\n",
       " 35,\n",
       " 37,\n",
       " 39,\n",
       " 41,\n",
       " 43,\n",
       " 45,\n",
       " 47,\n",
       " 49,\n",
       " 51,\n",
       " 53,\n",
       " 55,\n",
       " 57,\n",
       " 59,\n",
       " 61,\n",
       " 63,\n",
       " 65,\n",
       " 67,\n",
       " 69,\n",
       " 71,\n",
       " 73,\n",
       " 75,\n",
       " 77,\n",
       " 79,\n",
       " 81,\n",
       " 83,\n",
       " 85,\n",
       " 87,\n",
       " 89,\n",
       " 91,\n",
       " 93,\n",
       " 95,\n",
       " 97,\n",
       " 99]"
      ]
     },
     "execution_count": 101,
     "metadata": {},
     "output_type": "execute_result"
    }
   ],
   "source": [
    "l"
   ]
  },
  {
   "cell_type": "code",
   "execution_count": null,
   "id": "99697832-7bcc-48fc-ace9-a9ab39f7a428",
   "metadata": {},
   "outputs": [],
   "source": []
  },
  {
   "cell_type": "code",
   "execution_count": null,
   "id": "76214000-6c58-47b9-a17f-a527a50e88ce",
   "metadata": {},
   "outputs": [],
   "source": []
  }
 ],
 "metadata": {
  "kernelspec": {
   "display_name": "Python 3 (ipykernel)",
   "language": "python",
   "name": "python3"
  },
  "language_info": {
   "codemirror_mode": {
    "name": "ipython",
    "version": 3
   },
   "file_extension": ".py",
   "mimetype": "text/x-python",
   "name": "python",
   "nbconvert_exporter": "python",
   "pygments_lexer": "ipython3",
   "version": "3.10.8"
  }
 },
 "nbformat": 4,
 "nbformat_minor": 5
}
