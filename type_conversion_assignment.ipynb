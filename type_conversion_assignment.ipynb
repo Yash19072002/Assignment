{
 "cells": [
  {
   "cell_type": "code",
   "execution_count": 1,
   "id": "0b02b6cb-0196-4542-908c-47528d26f02a",
   "metadata": {},
   "outputs": [],
   "source": [
    "#question1= convert an integer to a floating-point number."
   ]
  },
  {
   "cell_type": "code",
   "execution_count": 2,
   "id": "fc42c02a-c518-450d-a096-ca28c0d3e340",
   "metadata": {},
   "outputs": [],
   "source": [
    "a = 34"
   ]
  },
  {
   "cell_type": "code",
   "execution_count": 3,
   "id": "cb5013dd-9964-47b9-b7b4-a142cb791651",
   "metadata": {},
   "outputs": [
    {
     "data": {
      "text/plain": [
       "34.0"
      ]
     },
     "execution_count": 3,
     "metadata": {},
     "output_type": "execute_result"
    }
   ],
   "source": [
    "float(a)"
   ]
  },
  {
   "cell_type": "code",
   "execution_count": 4,
   "id": "7f1249c4-11ce-4109-8af6-353acc000714",
   "metadata": {},
   "outputs": [],
   "source": [
    "#question2 =Convert a float to an integer."
   ]
  },
  {
   "cell_type": "code",
   "execution_count": 5,
   "id": "7d25657a-d6bd-47bc-8ca9-8b21f43161e9",
   "metadata": {},
   "outputs": [],
   "source": [
    "b = 34.5"
   ]
  },
  {
   "cell_type": "code",
   "execution_count": 6,
   "id": "165183a3-63e9-4e65-a08c-7f87206a2211",
   "metadata": {},
   "outputs": [
    {
     "data": {
      "text/plain": [
       "34"
      ]
     },
     "execution_count": 6,
     "metadata": {},
     "output_type": "execute_result"
    }
   ],
   "source": [
    "int(b)"
   ]
  },
  {
   "cell_type": "code",
   "execution_count": 7,
   "id": "49b16858-2d28-485e-ac30-0e59f41d20a2",
   "metadata": {},
   "outputs": [],
   "source": [
    "#question3 = convert an integer to a string."
   ]
  },
  {
   "cell_type": "code",
   "execution_count": 8,
   "id": "f7c78a64-1e88-46d4-94e4-9a0446c27ed9",
   "metadata": {},
   "outputs": [],
   "source": [
    "c = 34"
   ]
  },
  {
   "cell_type": "code",
   "execution_count": 9,
   "id": "c2c3bd81-fea7-48ae-9153-dc7065abe4aa",
   "metadata": {},
   "outputs": [
    {
     "data": {
      "text/plain": [
       "'34'"
      ]
     },
     "execution_count": 9,
     "metadata": {},
     "output_type": "execute_result"
    }
   ],
   "source": [
    "str(c)"
   ]
  },
  {
   "cell_type": "code",
   "execution_count": 10,
   "id": "9099f280-8b92-4c00-a743-5f87c775a850",
   "metadata": {},
   "outputs": [],
   "source": [
    "#Q4 =convert a list to a tuple."
   ]
  },
  {
   "cell_type": "code",
   "execution_count": 11,
   "id": "c1669f6b-bc85-4ad8-9ee6-de80e2ea6646",
   "metadata": {},
   "outputs": [],
   "source": [
    "l = [2,3,4,5,6]"
   ]
  },
  {
   "cell_type": "code",
   "execution_count": 12,
   "id": "ac92af8b-4b9f-4929-b925-6c72747eedd7",
   "metadata": {},
   "outputs": [
    {
     "data": {
      "text/plain": [
       "(2, 3, 4, 5, 6)"
      ]
     },
     "execution_count": 12,
     "metadata": {},
     "output_type": "execute_result"
    }
   ],
   "source": [
    "tuple(l)"
   ]
  },
  {
   "cell_type": "code",
   "execution_count": 13,
   "id": "bb113988-cdc3-412f-a47d-209efe0da80d",
   "metadata": {},
   "outputs": [],
   "source": [
    "#question 5 = convert a tuple to a list."
   ]
  },
  {
   "cell_type": "code",
   "execution_count": 14,
   "id": "c306bde7-be3c-4ab7-8e77-0b8278d67820",
   "metadata": {},
   "outputs": [],
   "source": [
    "t =(5,6,7,8,9)"
   ]
  },
  {
   "cell_type": "code",
   "execution_count": 15,
   "id": "c59e76e0-c750-4bbd-9e80-6cc1a214a1cc",
   "metadata": {},
   "outputs": [
    {
     "data": {
      "text/plain": [
       "[5, 6, 7, 8, 9]"
      ]
     },
     "execution_count": 15,
     "metadata": {},
     "output_type": "execute_result"
    }
   ],
   "source": [
    "list(t)"
   ]
  },
  {
   "cell_type": "code",
   "execution_count": 16,
   "id": "8b392274-a97f-4f9d-8589-b11d9e5dd2b1",
   "metadata": {},
   "outputs": [],
   "source": [
    "#question 6 = convert a decimal number to binary"
   ]
  },
  {
   "cell_type": "code",
   "execution_count": 17,
   "id": "c60c5c6f-0e96-48d8-943a-750a8718cd32",
   "metadata": {},
   "outputs": [
    {
     "data": {
      "text/plain": [
       "'0b101'"
      ]
     },
     "execution_count": 17,
     "metadata": {},
     "output_type": "execute_result"
    }
   ],
   "source": [
    "d = 5\n",
    "bin(d)"
   ]
  },
  {
   "cell_type": "code",
   "execution_count": 18,
   "id": "0f85d1c4-dd37-4d55-b257-15bb1400186e",
   "metadata": {},
   "outputs": [],
   "source": [
    "#question 7 = convert a non-zero number to boolean."
   ]
  },
  {
   "cell_type": "code",
   "execution_count": 19,
   "id": "57c20bc3-89d3-4a7c-a618-85023537f9bb",
   "metadata": {},
   "outputs": [],
   "source": [
    "e = 7"
   ]
  },
  {
   "cell_type": "code",
   "execution_count": null,
   "id": "88cc2f6f-39af-4d5b-bf24-543df00536fc",
   "metadata": {},
   "outputs": [],
   "source": [
    "bool"
   ]
  }
 ],
 "metadata": {
  "kernelspec": {
   "display_name": "Python 3 (ipykernel)",
   "language": "python",
   "name": "python3"
  },
  "language_info": {
   "codemirror_mode": {
    "name": "ipython",
    "version": 3
   },
   "file_extension": ".py",
   "mimetype": "text/x-python",
   "name": "python",
   "nbconvert_exporter": "python",
   "pygments_lexer": "ipython3",
   "version": "3.10.8"
  }
 },
 "nbformat": 4,
 "nbformat_minor": 5
}
