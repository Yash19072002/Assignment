{
 "cells": [
  {
   "cell_type": "code",
   "execution_count": 1,
   "id": "584e005e-49bc-4365-b34c-ff63c538b58b",
   "metadata": {},
   "outputs": [],
   "source": [
    "#question1 = write a program to print numbers from 1 to 10,but stop if the number is 5."
   ]
  },
  {
   "cell_type": "code",
   "execution_count": 2,
   "id": "337d50b4-4a77-40a6-abdc-86ea44e0b29f",
   "metadata": {},
   "outputs": [
    {
     "name": "stdout",
     "output_type": "stream",
     "text": [
      "1\n",
      "2\n",
      "3\n",
      "4\n",
      "5\n"
     ]
    }
   ],
   "source": [
    "i = 1\n",
    "n = 10\n",
    "while n>i:\n",
    "    print(i)\n",
    "    if i == 5:\n",
    "        break\n",
    "    i = i + 1"
   ]
  },
  {
   "cell_type": "code",
   "execution_count": 3,
   "id": "fd580481-a08a-4177-a7d0-bc627ec954ef",
   "metadata": {},
   "outputs": [],
   "source": [
    "#question 2 = write a program to iterate through a list and stop when encountering a specific element."
   ]
  },
  {
   "cell_type": "code",
   "execution_count": 4,
   "id": "ab010aad-da39-433d-bec1-dc8eca99c8d4",
   "metadata": {},
   "outputs": [
    {
     "name": "stdout",
     "output_type": "stream",
     "text": [
      "1\n",
      "2\n",
      "3\n",
      "4\n",
      "5\n",
      "6\n"
     ]
    }
   ],
   "source": [
    "l = [1,2,3,4,5,6,7]\n",
    "for i in l:\n",
    "    print(i)\n",
    "    if i ==6:\n",
    "        break"
   ]
  },
  {
   "cell_type": "code",
   "execution_count": 5,
   "id": "b5cab3c5-570d-4a82-92b7-9afc1b7e6732",
   "metadata": {},
   "outputs": [],
   "source": [
    "#question 3 = write a program to skip printing even numbers from 1 to 10."
   ]
  },
  {
   "cell_type": "code",
   "execution_count": 4,
   "id": "81fc5126-cf40-40de-abd0-52282e7b29ed",
   "metadata": {},
   "outputs": [],
   "source": [
    "l = [1,2,3,4,5,6,7,8,9,10]\n",
    "        "
   ]
  },
  {
   "cell_type": "code",
   "execution_count": 6,
   "id": "0eef54d3-b44f-4ee5-968b-a0a62871df30",
   "metadata": {},
   "outputs": [
    {
     "name": "stdout",
     "output_type": "stream",
     "text": [
      "1\n",
      "3\n",
      "5\n",
      "7\n",
      "9\n"
     ]
    }
   ],
   "source": [
    "for i in l:\n",
    "    if i%2!=0:\n",
    "        print(i)"
   ]
  },
  {
   "cell_type": "code",
   "execution_count": 7,
   "id": "351bf98d-6ecd-469f-80cd-db343a21408f",
   "metadata": {},
   "outputs": [],
   "source": [
    "#question4 = write a program to print numbers from 0 to 9 using range()."
   ]
  },
  {
   "cell_type": "code",
   "execution_count": 11,
   "id": "5e5b060b-4b17-485c-b664-1f9ce5bf33ee",
   "metadata": {},
   "outputs": [
    {
     "name": "stdout",
     "output_type": "stream",
     "text": [
      "0\n",
      "1\n",
      "2\n",
      "3\n",
      "4\n",
      "5\n",
      "6\n",
      "7\n",
      "8\n",
      "9\n"
     ]
    }
   ],
   "source": [
    "for i in range(0,10):\n",
    "    print(i)"
   ]
  },
  {
   "cell_type": "code",
   "execution_count": 12,
   "id": "1ab2494c-b781-4964-90e6-f339f1249110",
   "metadata": {},
   "outputs": [],
   "source": [
    "#question5 = write a program to print multiplication tables from 1 to 5,but stop after the first table is printed for each number."
   ]
  },
  {
   "cell_type": "code",
   "execution_count": 16,
   "id": "636d3c49-0593-40cc-90ab-000df036220c",
   "metadata": {},
   "outputs": [
    {
     "name": "stdout",
     "output_type": "stream",
     "text": [
      "Multiplication table for 1:\n",
      "1x1=1\n",
      "\n",
      "1x2=2\n",
      "\n",
      "1x3=3\n",
      "\n",
      "1x4=4\n",
      "\n",
      "1x5=5\n",
      "\n",
      "1x6=6\n",
      "\n",
      "1x7=7\n",
      "\n",
      "1x8=8\n",
      "\n",
      "1x9=9\n",
      "\n",
      "1x10=10\n",
      "\n",
      "Multiplication table for 2:\n",
      "2x1=2\n",
      "\n",
      "2x2=4\n",
      "\n",
      "2x3=6\n",
      "\n",
      "2x4=8\n",
      "\n",
      "2x5=10\n",
      "\n",
      "2x6=12\n",
      "\n",
      "2x7=14\n",
      "\n",
      "2x8=16\n",
      "\n",
      "2x9=18\n",
      "\n",
      "2x10=20\n",
      "\n",
      "Multiplication table for 3:\n",
      "3x1=3\n",
      "\n",
      "3x2=6\n",
      "\n",
      "3x3=9\n",
      "\n",
      "3x4=12\n",
      "\n",
      "3x5=15\n",
      "\n",
      "3x6=18\n",
      "\n",
      "3x7=21\n",
      "\n",
      "3x8=24\n",
      "\n",
      "3x9=27\n",
      "\n",
      "3x10=30\n",
      "\n",
      "Multiplication table for 4:\n",
      "4x1=4\n",
      "\n",
      "4x2=8\n",
      "\n",
      "4x3=12\n",
      "\n",
      "4x4=16\n",
      "\n",
      "4x5=20\n",
      "\n",
      "4x6=24\n",
      "\n",
      "4x7=28\n",
      "\n",
      "4x8=32\n",
      "\n",
      "4x9=36\n",
      "\n",
      "4x10=40\n",
      "\n",
      "Multiplication table for 5:\n",
      "5x1=5\n",
      "\n",
      "5x2=10\n",
      "\n",
      "5x3=15\n",
      "\n",
      "5x4=20\n",
      "\n",
      "5x5=25\n",
      "\n",
      "5x6=30\n",
      "\n",
      "5x7=35\n",
      "\n",
      "5x8=40\n",
      "\n",
      "5x9=45\n",
      "\n",
      "5x10=50\n",
      "\n"
     ]
    }
   ],
   "source": [
    "for i in range(1,6):\n",
    "    print(f\"Multiplication table for {i}:\")\n",
    "    for j in range(1,11):\n",
    "        print(f\"{i}x{j}={i*j}\")\n",
    "        print()"
   ]
  },
  {
   "cell_type": "code",
   "execution_count": 13,
   "id": "5671ef35-89bb-4bc3-a361-f70b6032dad0",
   "metadata": {},
   "outputs": [],
   "source": [
    "#write a program to skip printing even numbers using a while loop."
   ]
  },
  {
   "cell_type": "code",
   "execution_count": 14,
   "id": "0cbdde26-c81d-4723-a189-143e03adf82c",
   "metadata": {},
   "outputs": [
    {
     "name": "stdout",
     "output_type": "stream",
     "text": [
      "1\n",
      "3\n",
      "5\n",
      "7\n",
      "9\n"
     ]
    }
   ],
   "source": [
    "n = 10\n",
    "i = 1\n",
    "while n>i:\n",
    "    if i%2!=0:\n",
    "        print(i)\n",
    "    i = i + 1\n",
    "        "
   ]
  },
  {
   "cell_type": "code",
   "execution_count": null,
   "id": "17d6d05d-398c-408e-ae39-cddf3de67d30",
   "metadata": {},
   "outputs": [],
   "source": []
  }
 ],
 "metadata": {
  "kernelspec": {
   "display_name": "Python 3 (ipykernel)",
   "language": "python",
   "name": "python3"
  },
  "language_info": {
   "codemirror_mode": {
    "name": "ipython",
    "version": 3
   },
   "file_extension": ".py",
   "mimetype": "text/x-python",
   "name": "python",
   "nbconvert_exporter": "python",
   "pygments_lexer": "ipython3",
   "version": "3.10.8"
  }
 },
 "nbformat": 4,
 "nbformat_minor": 5
}
