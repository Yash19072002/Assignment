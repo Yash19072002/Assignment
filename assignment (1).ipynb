{
 "cells": [
  {
   "cell_type": "code",
   "execution_count": 1,
   "id": "640e00f5-58f4-45b8-a657-70d40c246cf3",
   "metadata": {},
   "outputs": [
    {
     "data": {
      "text/plain": [
       "'Q1. Create one variable containing following type of data:\\n(i) string\\n(ii) list\\n(iii) float\\n(iv) tuple'"
      ]
     },
     "execution_count": 1,
     "metadata": {},
     "output_type": "execute_result"
    }
   ],
   "source": [
    "'''Q1. Create one variable containing following type of data:\n",
    "(i) string\n",
    "(ii) list\n",
    "(iii) float\n",
    "(iv) tuple'''"
   ]
  },
  {
   "cell_type": "code",
   "execution_count": 2,
   "id": "fcd0f140-ffdf-4f11-b403-18f5d017d244",
   "metadata": {},
   "outputs": [],
   "source": [
    "#string"
   ]
  },
  {
   "cell_type": "code",
   "execution_count": 9,
   "id": "db74c014-b64e-4b43-be0f-126b7ee6a709",
   "metadata": {},
   "outputs": [],
   "source": [
    "for_string = \"rahul\""
   ]
  },
  {
   "cell_type": "code",
   "execution_count": 4,
   "id": "8a45513a-9ac6-480b-a44a-b76fd220c165",
   "metadata": {},
   "outputs": [],
   "source": [
    "#list "
   ]
  },
  {
   "cell_type": "code",
   "execution_count": 5,
   "id": "65a4648b-be2c-4cd7-b630-69ac49c2296d",
   "metadata": {},
   "outputs": [],
   "source": [
    "for_list = [3,5,\"rahul\",4+5j,True]"
   ]
  },
  {
   "cell_type": "code",
   "execution_count": 6,
   "id": "7d7685dd-1aa2-4f70-bfa6-03c87c7b6feb",
   "metadata": {},
   "outputs": [],
   "source": [
    "#float"
   ]
  },
  {
   "cell_type": "code",
   "execution_count": 7,
   "id": "d2890826-7a11-43c1-9e22-5198a1da52a9",
   "metadata": {},
   "outputs": [],
   "source": [
    "for_float = 4.5"
   ]
  },
  {
   "cell_type": "code",
   "execution_count": 8,
   "id": "dd69c13b-51aa-4cc5-9880-d912e699fccf",
   "metadata": {},
   "outputs": [],
   "source": [
    "#tuple"
   ]
  },
  {
   "cell_type": "code",
   "execution_count": 10,
   "id": "cdeaf0d3-f917-46a5-bf20-6682d5dcd855",
   "metadata": {},
   "outputs": [],
   "source": [
    "c = (3,4.5,True,[4,5,6,2],3+5j)"
   ]
  },
  {
   "cell_type": "code",
   "execution_count": 11,
   "id": "58173a9d-348b-4e2c-92dd-18ab9006a109",
   "metadata": {},
   "outputs": [
    {
     "data": {
      "text/plain": [
       "tuple"
      ]
     },
     "execution_count": 11,
     "metadata": {},
     "output_type": "execute_result"
    }
   ],
   "source": [
    "type(c)"
   ]
  },
  {
   "cell_type": "code",
   "execution_count": 12,
   "id": "c26a9a22-563a-4f32-b758-88bd5cbba7c2",
   "metadata": {},
   "outputs": [
    {
     "data": {
      "text/plain": [
       "'Q2. Given are some following variables containing data:\\n(i) var1 = ‘ ‘\\n(ii) var2 = ‘[ DS , ML , Python]’\\n(iii) var3 = [ ‘DS’ , ’ML’ , ‘Python’ ]\\n(iv) var4 = 1.'"
      ]
     },
     "execution_count": 12,
     "metadata": {},
     "output_type": "execute_result"
    }
   ],
   "source": [
    "'''Q2. Given are some following variables containing data:\n",
    "(i) var1 = ‘ ‘\n",
    "(ii) var2 = ‘[ DS , ML , Python]’\n",
    "(iii) var3 = [ ‘DS’ , ’ML’ , ‘Python’ ]\n",
    "(iv) var4 = 1.'''"
   ]
  },
  {
   "cell_type": "code",
   "execution_count": 13,
   "id": "18818be1-b14e-4963-9e99-68e774ed3a8f",
   "metadata": {},
   "outputs": [],
   "source": [
    "#first one is string"
   ]
  },
  {
   "cell_type": "code",
   "execution_count": 14,
   "id": "825c3d42-8cd7-4f2e-afd9-c57cf3945c5f",
   "metadata": {},
   "outputs": [],
   "source": [
    "#second is string"
   ]
  },
  {
   "cell_type": "code",
   "execution_count": 15,
   "id": "55c33a9d-5392-4feb-b398-c878d7a8c563",
   "metadata": {},
   "outputs": [],
   "source": [
    "#third is list"
   ]
  },
  {
   "cell_type": "code",
   "execution_count": 16,
   "id": "84ff5234-0416-42fa-9a2e-e39a37ce46bf",
   "metadata": {},
   "outputs": [],
   "source": [
    "#fourth is float"
   ]
  },
  {
   "cell_type": "code",
   "execution_count": 17,
   "id": "0f3227b8-1c02-42bd-b0a8-b2ed2fc64f30",
   "metadata": {},
   "outputs": [
    {
     "data": {
      "text/plain": [
       "'Q3. Explain the use of the following operators using an example:\\n(i) /\\n(ii) %\\n(iii) //\\n(iv) ** '"
      ]
     },
     "execution_count": 17,
     "metadata": {},
     "output_type": "execute_result"
    }
   ],
   "source": [
    "'''Q3. Explain the use of the following operators using an example:\n",
    "(i) /\n",
    "(ii) %\n",
    "(iii) //\n",
    "(iv) ** '''"
   ]
  },
  {
   "cell_type": "code",
   "execution_count": 24,
   "id": "441bc89c-3b4c-4e4f-a2a6-4f698597c45a",
   "metadata": {},
   "outputs": [],
   "source": [
    "# / divison operator  is used for divide"
   ]
  },
  {
   "cell_type": "code",
   "execution_count": 19,
   "id": "97fe8829-b595-486f-9cb9-a83633d9c9d0",
   "metadata": {},
   "outputs": [],
   "source": [
    "a = 10/5 "
   ]
  },
  {
   "cell_type": "code",
   "execution_count": 20,
   "id": "e7ac250b-bbd9-4817-81c9-9284e4676573",
   "metadata": {},
   "outputs": [
    {
     "data": {
      "text/plain": [
       "2.0"
      ]
     },
     "execution_count": 20,
     "metadata": {},
     "output_type": "execute_result"
    }
   ],
   "source": [
    "a"
   ]
  },
  {
   "cell_type": "code",
   "execution_count": 21,
   "id": "bafeb97f-04e5-4928-b33f-d479422f339e",
   "metadata": {},
   "outputs": [],
   "source": [
    "# % (modular operator ) used for recieveing reminders"
   ]
  },
  {
   "cell_type": "code",
   "execution_count": 22,
   "id": "a7f2a22b-f081-4baf-b445-0576f0a6be88",
   "metadata": {},
   "outputs": [],
   "source": [
    "b = 20%4"
   ]
  },
  {
   "cell_type": "code",
   "execution_count": 23,
   "id": "06e19d96-b7e8-455b-baf7-c6637fb131fc",
   "metadata": {},
   "outputs": [
    {
     "data": {
      "text/plain": [
       "0"
      ]
     },
     "execution_count": 23,
     "metadata": {},
     "output_type": "execute_result"
    }
   ],
   "source": [
    "b"
   ]
  },
  {
   "cell_type": "code",
   "execution_count": 25,
   "id": "30efe643-9767-430a-a3fa-aceee1088eb8",
   "metadata": {},
   "outputs": [],
   "source": [
    "# // (floor division operator) didnt give the answer datatype float always gives integer"
   ]
  },
  {
   "cell_type": "code",
   "execution_count": 26,
   "id": "7fb517ea-5ea0-4dca-bc7c-8ccbfb2bd230",
   "metadata": {},
   "outputs": [
    {
     "data": {
      "text/plain": [
       "4"
      ]
     },
     "execution_count": 26,
     "metadata": {},
     "output_type": "execute_result"
    }
   ],
   "source": [
    "17//4"
   ]
  },
  {
   "cell_type": "code",
   "execution_count": 27,
   "id": "dfb209df-696e-419e-b3ea-87dbdb942e47",
   "metadata": {},
   "outputs": [],
   "source": [
    "# ** Exponentiation operator in which the first no to the power of the second number"
   ]
  },
  {
   "cell_type": "code",
   "execution_count": 28,
   "id": "ba6fea70-50e9-4dc5-ab65-bc6809d00730",
   "metadata": {},
   "outputs": [
    {
     "data": {
      "text/plain": [
       "16"
      ]
     },
     "execution_count": 28,
     "metadata": {},
     "output_type": "execute_result"
    }
   ],
   "source": [
    "2**4"
   ]
  },
  {
   "cell_type": "code",
   "execution_count": 29,
   "id": "2a0e057f-1f6a-40b7-a9a4-0a5000783545",
   "metadata": {},
   "outputs": [],
   "source": [
    "#Q4. Create a list of length 10 of your choice containing multiple types of data. Using for loop print the\n",
    "#element and its data type."
   ]
  },
  {
   "cell_type": "code",
   "execution_count": 30,
   "id": "8c2ae110-efd6-4d75-af63-a42ed3cd6a82",
   "metadata": {},
   "outputs": [],
   "source": [
    "l = [2,4.5,True,\"yash\",5+2j,2,4.9,False,\"pwskills\",34]"
   ]
  },
  {
   "cell_type": "code",
   "execution_count": 32,
   "id": "4bf170fa-61ea-4dcf-a4e8-c3e38ca05e59",
   "metadata": {},
   "outputs": [
    {
     "name": "stdout",
     "output_type": "stream",
     "text": [
      "2\n",
      "<class 'int'>\n",
      "4.5\n",
      "<class 'float'>\n",
      "True\n",
      "<class 'bool'>\n",
      "yash\n",
      "<class 'str'>\n",
      "(5+2j)\n",
      "<class 'complex'>\n",
      "2\n",
      "<class 'int'>\n",
      "4.9\n",
      "<class 'float'>\n",
      "False\n",
      "<class 'bool'>\n",
      "pwskills\n",
      "<class 'str'>\n",
      "34\n",
      "<class 'int'>\n"
     ]
    }
   ],
   "source": [
    "for i in l:\n",
    "    print(i)\n",
    "    print(type(i))"
   ]
  },
  {
   "cell_type": "code",
   "execution_count": 33,
   "id": "cf34588a-d555-458b-8d7e-31a2bf742f44",
   "metadata": {},
   "outputs": [],
   "source": [
    "#Q5. Using a while loop, verify if the number A is purely divisible by number B and if so then how many\n",
    "#    times it can be divisible."
   ]
  },
  {
   "cell_type": "code",
   "execution_count": 40,
   "id": "532efba1-3047-40aa-809e-c55007b261cc",
   "metadata": {},
   "outputs": [
    {
     "name": "stdin",
     "output_type": "stream",
     "text": [
      "Enter a number:  5\n"
     ]
    },
    {
     "name": "stdout",
     "output_type": "stream",
     "text": [
      "number A is divisible by number B 1 times.\n"
     ]
    }
   ],
   "source": [
    "n = int(input(\"Enter a number: \"))\n",
    "number_A = 35\n",
    "count = 0\n",
    "\n",
    "while number_A % n == 0:\n",
    "    count += 1\n",
    "    number_A = number_A / n\n",
    "\n",
    "if count > 0:\n",
    "    print(f\"number A is divisible by number B {count} times.\")\n",
    "else:\n",
    "    print(\"number A is not divisible by number B\")"
   ]
  },
  {
   "cell_type": "code",
   "execution_count": 43,
   "id": "8e6df79b-3aab-4e40-9cc1-7ce784893d1e",
   "metadata": {},
   "outputs": [],
   "source": [
    "#Q6. Create a list containing 25 int type data. Using for loop and if-else condition print if the element is\n",
    "#    divisible by 3 or not."
   ]
  },
  {
   "cell_type": "code",
   "execution_count": 45,
   "id": "6c6ea7ec-b5f2-494d-8cb7-06fea77c6b3f",
   "metadata": {},
   "outputs": [],
   "source": [
    "l =[25,3,12,5,7,33,87,34,55,90,14,18,23,22,34,21,56,73,77,67,43,122,567,87,5]"
   ]
  },
  {
   "cell_type": "code",
   "execution_count": 50,
   "id": "0815eb92-bd11-4384-b53c-78ff0817cc03",
   "metadata": {},
   "outputs": [
    {
     "name": "stdout",
     "output_type": "stream",
     "text": [
      "25 it is not divisble by 3\n",
      "3 it is divisible by 3\n",
      "12 it is divisible by 3\n",
      "5 it is not divisble by 3\n",
      "7 it is not divisble by 3\n",
      "33 it is divisible by 3\n",
      "87 it is divisible by 3\n",
      "34 it is not divisble by 3\n",
      "55 it is not divisble by 3\n",
      "90 it is divisible by 3\n",
      "14 it is not divisble by 3\n",
      "18 it is divisible by 3\n",
      "23 it is not divisble by 3\n",
      "22 it is not divisble by 3\n",
      "34 it is not divisble by 3\n",
      "21 it is divisible by 3\n",
      "56 it is not divisble by 3\n",
      "73 it is not divisble by 3\n",
      "77 it is not divisble by 3\n",
      "67 it is not divisble by 3\n",
      "43 it is not divisble by 3\n",
      "122 it is not divisble by 3\n",
      "567 it is divisible by 3\n",
      "87 it is divisible by 3\n",
      "5 it is not divisble by 3\n"
     ]
    }
   ],
   "source": [
    "for i in l :\n",
    "    if i % 3 == 0 :\n",
    "        print(i,\"it is divisible by 3\")\n",
    "    else :\n",
    "        print(i,\"it is not divisble by 3\")"
   ]
  },
  {
   "cell_type": "code",
   "execution_count": 53,
   "id": "bf4ad52c-92c2-4b43-b855-ec2fda943bd0",
   "metadata": {},
   "outputs": [],
   "source": [
    "#Q7. What do you understand about mutable and immutable data types? Give examples for both showing\n",
    "##his property.\n"
   ]
  },
  {
   "cell_type": "code",
   "execution_count": 55,
   "id": "f93d64e0-5e8e-4a1e-82b6-7937c6ac9c81",
   "metadata": {},
   "outputs": [],
   "source": [
    "#mutable list is a mutable data type"
   ]
  },
  {
   "cell_type": "code",
   "execution_count": 56,
   "id": "a3ad77d5-4839-4c81-a94d-57cffff1c305",
   "metadata": {},
   "outputs": [],
   "source": [
    "l = [2,3.5,True,\"yash\",4.9j]"
   ]
  },
  {
   "cell_type": "code",
   "execution_count": 57,
   "id": "a707b849-875c-430d-8576-8e8d11fe8e5d",
   "metadata": {},
   "outputs": [],
   "source": [
    "l[2]=False"
   ]
  },
  {
   "cell_type": "code",
   "execution_count": 58,
   "id": "c2ee2c0e-a36a-444e-b783-1f961ff026c2",
   "metadata": {},
   "outputs": [
    {
     "data": {
      "text/plain": [
       "[2, 3.5, False, 'yash', 4.9j]"
      ]
     },
     "execution_count": 58,
     "metadata": {},
     "output_type": "execute_result"
    }
   ],
   "source": [
    "l"
   ]
  },
  {
   "cell_type": "code",
   "execution_count": 59,
   "id": "c711e019-1d20-4087-acfd-4fc982b07e6c",
   "metadata": {},
   "outputs": [],
   "source": [
    "#immutable string is immutable data type "
   ]
  },
  {
   "cell_type": "code",
   "execution_count": 60,
   "id": "9beae2c8-51e0-41a6-ad88-4e3a395e6eb3",
   "metadata": {},
   "outputs": [],
   "source": [
    "s = \"anshul\""
   ]
  },
  {
   "cell_type": "code",
   "execution_count": 61,
   "id": "4fafa944-9288-403e-9993-d78388c5d23c",
   "metadata": {},
   "outputs": [
    {
     "ename": "TypeError",
     "evalue": "'str' object does not support item assignment",
     "output_type": "error",
     "traceback": [
      "\u001b[0;31m---------------------------------------------------------------------------\u001b[0m",
      "\u001b[0;31mTypeError\u001b[0m                                 Traceback (most recent call last)",
      "Cell \u001b[0;32mIn[61], line 1\u001b[0m\n\u001b[0;32m----> 1\u001b[0m \u001b[43ms\u001b[49m\u001b[43m[\u001b[49m\u001b[38;5;241;43m3\u001b[39;49m\u001b[43m]\u001b[49m\u001b[38;5;241m=\u001b[39m\u001b[38;5;124m'\u001b[39m\u001b[38;5;124ma\u001b[39m\u001b[38;5;124m'\u001b[39m\n",
      "\u001b[0;31mTypeError\u001b[0m: 'str' object does not support item assignment"
     ]
    }
   ],
   "source": [
    "s[3]='a'"
   ]
  },
  {
   "cell_type": "code",
   "execution_count": null,
   "id": "26d8222b-a940-4157-bda8-846cea2ab41c",
   "metadata": {},
   "outputs": [],
   "source": []
  }
 ],
 "metadata": {
  "kernelspec": {
   "display_name": "Python 3 (ipykernel)",
   "language": "python",
   "name": "python3"
  },
  "language_info": {
   "codemirror_mode": {
    "name": "ipython",
    "version": 3
   },
   "file_extension": ".py",
   "mimetype": "text/x-python",
   "name": "python",
   "nbconvert_exporter": "python",
   "pygments_lexer": "ipython3",
   "version": "3.10.8"
  }
 },
 "nbformat": 4,
 "nbformat_minor": 5
}
