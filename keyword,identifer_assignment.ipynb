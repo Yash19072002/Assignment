{
 "cells": [
  {
   "cell_type": "code",
   "execution_count": 1,
   "id": "0037f858-8b72-4643-a8ab-af2c6bb5145b",
   "metadata": {},
   "outputs": [],
   "source": [
    "#question1 = Explain the significance of python keywords and provide examples of live keywords."
   ]
  },
  {
   "cell_type": "code",
   "execution_count": 2,
   "id": "efbe5891-95a4-42d4-835d-be366243570d",
   "metadata": {},
   "outputs": [],
   "source": [
    "#python keywords are special words with built in meanings in python.they are like instructions that tell python what to do."
   ]
  },
  {
   "cell_type": "code",
   "execution_count": 3,
   "id": "6dc4f9b5-0dda-4a21-b284-c6ff294643b6",
   "metadata": {},
   "outputs": [
    {
     "name": "stdout",
     "output_type": "stream",
     "text": [
      "\n",
      "Here is a list of the Python keywords.  Enter any keyword to get more help.\n",
      "\n",
      "False               class               from                or\n",
      "None                continue            global              pass\n",
      "True                def                 if                  raise\n",
      "and                 del                 import              return\n",
      "as                  elif                in                  try\n",
      "assert              else                is                  while\n",
      "async               except              lambda              with\n",
      "await               finally             nonlocal            yield\n",
      "break               for                 not                 \n",
      "\n"
     ]
    }
   ],
   "source": [
    "help(\"keywords\")"
   ]
  },
  {
   "cell_type": "code",
   "execution_count": 16,
   "id": "e2ac179b-9417-46a3-98b9-eb6c7ac114d2",
   "metadata": {},
   "outputs": [],
   "source": [
    " #Question 2 = Describe the rules for defining identifiers in Python and provide an example."
   ]
  },
  {
   "cell_type": "code",
   "execution_count": 6,
   "id": "9ef50df3-8b8b-43d9-9ba4-f27793cfb8d0",
   "metadata": {},
   "outputs": [],
   "source": [
    "#1 a variable starts with a letter or underscore character."
   ]
  },
  {
   "cell_type": "code",
   "execution_count": 7,
   "id": "efed001d-711b-4555-a6d4-899696d7ae2a",
   "metadata": {},
   "outputs": [],
   "source": [
    "name = \"anshul\""
   ]
  },
  {
   "cell_type": "code",
   "execution_count": 8,
   "id": "f469330f-fbcb-43ab-aaa8-47d58a77ba6e",
   "metadata": {},
   "outputs": [],
   "source": [
    "_name = \"anshul\""
   ]
  },
  {
   "cell_type": "code",
   "execution_count": 9,
   "id": "f108d6ff-92d5-4917-85ef-2524fafe2bb8",
   "metadata": {},
   "outputs": [],
   "source": [
    "#2 Use proper variable name"
   ]
  },
  {
   "cell_type": "code",
   "execution_count": 11,
   "id": "d4ec9afd-349c-4626-aa2d-cb27ac038347",
   "metadata": {},
   "outputs": [],
   "source": [
    "a = 'dehradun'"
   ]
  },
  {
   "cell_type": "code",
   "execution_count": 12,
   "id": "4bd8bb2f-9f68-458d-9a94-77ecbcedc537",
   "metadata": {},
   "outputs": [],
   "source": [
    "city='dehradun'"
   ]
  },
  {
   "cell_type": "code",
   "execution_count": 13,
   "id": "6729da4c-ca91-4c9a-beb4-0e8140f1d920",
   "metadata": {},
   "outputs": [],
   "source": [
    "#3  a variable cannot start with special character"
   ]
  },
  {
   "cell_type": "code",
   "execution_count": 14,
   "id": "256a8ddb-5cd8-4091-be49-11ed47a97c4f",
   "metadata": {},
   "outputs": [
    {
     "ename": "SyntaxError",
     "evalue": "invalid syntax. Maybe you meant '==' or ':=' instead of '='? (3656495520.py, line 1)",
     "output_type": "error",
     "traceback": [
      "\u001b[0;36m  Cell \u001b[0;32mIn[14], line 1\u001b[0;36m\u001b[0m\n\u001b[0;31m    @abc = 'ajay'\u001b[0m\n\u001b[0m     ^\u001b[0m\n\u001b[0;31mSyntaxError\u001b[0m\u001b[0;31m:\u001b[0m invalid syntax. Maybe you meant '==' or ':=' instead of '='?\n"
     ]
    }
   ],
   "source": [
    "@abc = 'ajay'"
   ]
  },
  {
   "cell_type": "code",
   "execution_count": 15,
   "id": "6b2893d2-f2d8-4fa6-af06-e19a29b560bb",
   "metadata": {},
   "outputs": [],
   "source": [
    "#question3 = What are comments in python, and why are they useful? provide an example."
   ]
  },
  {
   "cell_type": "code",
   "execution_count": 18,
   "id": "792f414a-6a02-4fb4-989d-b81d65989209",
   "metadata": {},
   "outputs": [],
   "source": [
    "#comments are notes or explanations added directly into the code to help programmers understand what the code does.\n",
    "#there are two type of comments single line and multiline comment."
   ]
  },
  {
   "cell_type": "code",
   "execution_count": 19,
   "id": "fe078c00-c182-47dd-a7b0-99e9a4be6c97",
   "metadata": {},
   "outputs": [],
   "source": [
    "#single line"
   ]
  },
  {
   "cell_type": "code",
   "execution_count": 21,
   "id": "5d237fbe-4ee6-4b67-a963-0d698f2ee67d",
   "metadata": {},
   "outputs": [
    {
     "data": {
      "text/plain": [
       "'ankit\\nanshul rahul\\nanjali'"
      ]
     },
     "execution_count": 21,
     "metadata": {},
     "output_type": "execute_result"
    }
   ],
   "source": [
    "'''ankit\n",
    "anshul rahul\n",
    "anjali'''"
   ]
  },
  {
   "cell_type": "code",
   "execution_count": 23,
   "id": "0e8facd5-3db6-4369-a6ac-a746878190bd",
   "metadata": {},
   "outputs": [],
   "source": [
    "#question 4= why is proper indentation important in python?"
   ]
  },
  {
   "cell_type": "code",
   "execution_count": 24,
   "id": "11f00210-312f-4ee1-9c29-fe42de51be67",
   "metadata": {},
   "outputs": [],
   "source": [
    "# proper indentation important in python because it visually organizes the code,making it easier to read and understand.also helps python know which lines of code belong together in loops,conditionals."
   ]
  },
  {
   "cell_type": "code",
   "execution_count": 25,
   "id": "1bd3dad3-5de8-4293-8ad6-5f134903d2cb",
   "metadata": {},
   "outputs": [],
   "source": [
    "#question 5 = What happens if indentation is incorrect in Python?"
   ]
  },
  {
   "cell_type": "code",
   "execution_count": 26,
   "id": "f25a2494-3206-4e6e-bc30-9820a0ff0cc3",
   "metadata": {},
   "outputs": [],
   "source": [
    "#indentation error causing logic error and syntax errors."
   ]
  },
  {
   "cell_type": "code",
   "execution_count": 27,
   "id": "8eb003f9-6b1b-47d8-bd6b-026b4a99b123",
   "metadata": {},
   "outputs": [],
   "source": [
    "#question 6 = Differentiate between expression and statement in python with examples."
   ]
  },
  {
   "cell_type": "code",
   "execution_count": 28,
   "id": "4fbb3967-6e02-46ce-a0d1-4d80d927e04b",
   "metadata": {},
   "outputs": [],
   "source": [
    "#statement is a block of code that performs an action.\n",
    "#expression is a combination of values,variables,operators."
   ]
  },
  {
   "cell_type": "code",
   "execution_count": 29,
   "id": "f2b088e2-ff0f-49fb-8d00-0b4f26f92b02",
   "metadata": {},
   "outputs": [],
   "source": [
    "#expression"
   ]
  },
  {
   "cell_type": "code",
   "execution_count": 32,
   "id": "66541920-1c5f-480b-a5d9-2ce4718e8f91",
   "metadata": {},
   "outputs": [],
   "source": [
    "x = 3 * 6"
   ]
  },
  {
   "cell_type": "code",
   "execution_count": null,
   "id": "7b367d04-d927-4e14-9cf9-6040fc15d451",
   "metadata": {},
   "outputs": [],
   "source": [
    "#statement\n",
    "\n"
   ]
  }
 ],
 "metadata": {
  "kernelspec": {
   "display_name": "Python 3 (ipykernel)",
   "language": "python",
   "name": "python3"
  },
  "language_info": {
   "codemirror_mode": {
    "name": "ipython",
    "version": 3
   },
   "file_extension": ".py",
   "mimetype": "text/x-python",
   "name": "python",
   "nbconvert_exporter": "python",
   "pygments_lexer": "ipython3",
   "version": "3.10.8"
  }
 },
 "nbformat": 4,
 "nbformat_minor": 5
}
