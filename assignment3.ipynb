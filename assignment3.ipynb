{
 "cells": [
  {
   "cell_type": "code",
   "execution_count": 1,
   "id": "d0932a86-e793-4f15-b785-97d114972ead",
   "metadata": {},
   "outputs": [],
   "source": [
    "#Q1. Create a python program to sort the given list of tuples based on integer value using a\n",
    "#lambda function.\n",
    "#[('Sachin Tendulkar', 34357), ('Ricky Ponting', 27483), ('Jack Kallis', 25534), ('Virat Kohli', 24936)]"
   ]
  },
  {
   "cell_type": "code",
   "execution_count": 11,
   "id": "72d12f77-009c-4e18-bd64-b09de5ac8823",
   "metadata": {},
   "outputs": [
    {
     "data": {
      "text/plain": [
       "[('Sachin Tendulkar', 34357),\n",
       " ('Ricky Ponting', 27483),\n",
       " ('Jack Kallis', 25534),\n",
       " ('Virat Kohli', 24936)]"
      ]
     },
     "execution_count": 11,
     "metadata": {},
     "output_type": "execute_result"
    }
   ],
   "source": [
    "l = [('Sachin Tendulkar', 34357), ('Ricky Ponting', 27483), ('Jack Kallis', 25534), ('Virat Kohli', 24936)]"
   ]
  },
  {
   "cell_type": "code",
   "execution_count": 12,
   "id": "4ad683e5-a7a5-4cc3-9029-0009b2a21d6c",
   "metadata": {},
   "outputs": [],
   "source": [
    "sorted_players = sorted(l, key=lambda x: x[1])"
   ]
  },
  {
   "cell_type": "code",
   "execution_count": 14,
   "id": "49b53d05-8161-4cb8-9249-1da024209d5f",
   "metadata": {},
   "outputs": [
    {
     "name": "stdout",
     "output_type": "stream",
     "text": [
      "('Virat Kohli', 24936)\n",
      "('Jack Kallis', 25534)\n",
      "('Ricky Ponting', 27483)\n",
      "('Sachin Tendulkar', 34357)\n"
     ]
    }
   ],
   "source": [
    "for i in sorted_players:\n",
    "    print(i)"
   ]
  },
  {
   "cell_type": "code",
   "execution_count": 15,
   "id": "01523ba9-795e-47db-a48f-508a8014c380",
   "metadata": {},
   "outputs": [],
   "source": [
    "#Q2. Write a Python Program to find the squares of all the numbers in the given list of integers using\n",
    "#    lambda and map functions.\n",
    "#     [1, 2, 3, 4, 5, 6, 7, 8, 9, 10]"
   ]
  },
  {
   "cell_type": "code",
   "execution_count": 16,
   "id": "d5bc67b6-c73c-4557-8ea9-94f9724d2c4e",
   "metadata": {},
   "outputs": [],
   "source": [
    "l = [1, 2, 3, 4, 5, 6, 7, 8, 9, 10]"
   ]
  },
  {
   "cell_type": "code",
   "execution_count": 17,
   "id": "4bae71e2-4357-441c-90f9-b34baae3883c",
   "metadata": {},
   "outputs": [
    {
     "data": {
      "text/plain": [
       "[1, 4, 9, 16, 25, 36, 49, 64, 81, 100]"
      ]
     },
     "execution_count": 17,
     "metadata": {},
     "output_type": "execute_result"
    }
   ],
   "source": [
    "list(map(lambda l : l **2 ,l))"
   ]
  },
  {
   "cell_type": "code",
   "execution_count": 19,
   "id": "40cbf6fc-620b-43ca-9b89-3496cc5d6f09",
   "metadata": {},
   "outputs": [],
   "source": [
    "#Q3. Write a python program to convert the given list of integers into a tuple of strings. Use map and\n",
    "#    lambda functions\n",
    "#   Given String: [1, 2, 3, 4, 5, 6, 7, 8, 9, 10]\n",
    "#   Expected output: ('1', '2', '3', '4', '5', '6', '7', '8', '9', '10')"
   ]
  },
  {
   "cell_type": "code",
   "execution_count": 20,
   "id": "86ae523a-c5fd-4c3f-8f4c-ebe05cee46cf",
   "metadata": {},
   "outputs": [],
   "source": [
    " l = [1, 2, 3, 4, 5, 6, 7, 8, 9, 10]"
   ]
  },
  {
   "cell_type": "code",
   "execution_count": 21,
   "id": "91b1f6ae-1069-44a9-8d55-575681252014",
   "metadata": {},
   "outputs": [
    {
     "data": {
      "text/plain": [
       "('1', '2', '3', '4', '5', '6', '7', '8', '9', '10')"
      ]
     },
     "execution_count": 21,
     "metadata": {},
     "output_type": "execute_result"
    }
   ],
   "source": [
    "tuple(map(lambda l : str(l),l))"
   ]
  },
  {
   "cell_type": "code",
   "execution_count": 23,
   "id": "fb1c2ff9-310e-4464-928d-129d2571bbca",
   "metadata": {},
   "outputs": [],
   "source": [
    "#Q4. Write a python program using reduce function to compute the product of a list containing numbers\n",
    "#    from 1 to 25."
   ]
  },
  {
   "cell_type": "code",
   "execution_count": 24,
   "id": "bc6841f6-fb4b-4dc3-93b2-7512bd244404",
   "metadata": {},
   "outputs": [],
   "source": [
    "l = [1, 2, 3, 4, 5, 6, 7, 8, 9, 10,11,12,13,14,15,16,17,18,19,20,21,22,23,24,25]"
   ]
  },
  {
   "cell_type": "code",
   "execution_count": 31,
   "id": "ef4e12c6-e3d4-4314-951b-473baa3d80d6",
   "metadata": {},
   "outputs": [],
   "source": [
    "from functools import reduce"
   ]
  },
  {
   "cell_type": "code",
   "execution_count": 32,
   "id": "e88ff901-0a46-4cd1-8ee2-05abc00ffcc3",
   "metadata": {},
   "outputs": [
    {
     "data": {
      "text/plain": [
       "15511210043330985984000000"
      ]
     },
     "execution_count": 32,
     "metadata": {},
     "output_type": "execute_result"
    }
   ],
   "source": [
    "reduce (lambda a,b : a * b , l)"
   ]
  },
  {
   "cell_type": "code",
   "execution_count": 33,
   "id": "3efc9dde-52ca-4c23-9ef5-b1a04a181aa2",
   "metadata": {},
   "outputs": [],
   "source": [
    "#Q5. Write a python program to filter the numbers in a given list that are divisible by 2 and 3 using the\n",
    "#    filter function.\n",
    "#    [2, 3, 6, 9, 27, 60, 90, 120, 55, 46]"
   ]
  },
  {
   "cell_type": "code",
   "execution_count": 34,
   "id": "1148074d-0559-44ff-a048-acf199f94404",
   "metadata": {},
   "outputs": [],
   "source": [
    " l = [2, 3, 6, 9, 27, 60, 90, 120, 55, 46]"
   ]
  },
  {
   "cell_type": "code",
   "execution_count": 35,
   "id": "c1a51f01-7780-4a08-980c-9c54ae6f0db4",
   "metadata": {},
   "outputs": [
    {
     "data": {
      "text/plain": [
       "[2, 3, 6, 9, 27, 60, 90, 120, 46]"
      ]
     },
     "execution_count": 35,
     "metadata": {},
     "output_type": "execute_result"
    }
   ],
   "source": [
    "list(filter(lambda l : l%2==0 or l%3==0 ,l))"
   ]
  },
  {
   "cell_type": "code",
   "execution_count": 36,
   "id": "5b6532d5-538c-4dbd-8437-fbe6746667ae",
   "metadata": {},
   "outputs": [],
   "source": [
    "#Q6. Write a python program to find palindromes in the given list of strings using lambda and filter\n",
    "#    function.\n",
    "#    ['python', 'php', 'aba', 'radar', 'level']"
   ]
  },
  {
   "cell_type": "code",
   "execution_count": 37,
   "id": "65190308-4458-4961-85f3-c134398becf3",
   "metadata": {},
   "outputs": [],
   "source": [
    "  l =  ['python', 'php', 'aba', 'radar', 'level']"
   ]
  },
  {
   "cell_type": "code",
   "execution_count": 40,
   "id": "00be0a68-602f-4ca0-9911-25727a6a0e79",
   "metadata": {},
   "outputs": [
    {
     "data": {
      "text/plain": [
       "['php', 'aba', 'radar', 'level']"
      ]
     },
     "execution_count": 40,
     "metadata": {},
     "output_type": "execute_result"
    }
   ],
   "source": [
    "list(filter(lambda l : l == l[::-1],l))"
   ]
  },
  {
   "cell_type": "code",
   "execution_count": null,
   "id": "6743836b-125f-40a6-b2e6-edde79f58f3d",
   "metadata": {},
   "outputs": [],
   "source": []
  }
 ],
 "metadata": {
  "kernelspec": {
   "display_name": "Python 3 (ipykernel)",
   "language": "python",
   "name": "python3"
  },
  "language_info": {
   "codemirror_mode": {
    "name": "ipython",
    "version": 3
   },
   "file_extension": ".py",
   "mimetype": "text/x-python",
   "name": "python",
   "nbconvert_exporter": "python",
   "pygments_lexer": "ipython3",
   "version": "3.10.8"
  }
 },
 "nbformat": 4,
 "nbformat_minor": 5
}
