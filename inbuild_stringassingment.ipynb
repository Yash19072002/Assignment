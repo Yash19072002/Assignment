{
 "cells": [
  {
   "cell_type": "code",
   "execution_count": 1,
   "id": "2d794b91-d7c8-421d-b858-730bc03e675c",
   "metadata": {},
   "outputs": [],
   "source": [
    "#1.What is the purpose of the len() function in python, and how can it be used with strings?"
   ]
  },
  {
   "cell_type": "code",
   "execution_count": 2,
   "id": "4ab8b87a-92a6-4201-882b-6cbf4690708a",
   "metadata": {},
   "outputs": [],
   "source": [
    "#the purpose of the len() function in python is to return the length of an object. when used with strings, len() returns the number of characters in the string,including spaces and punctuation."
   ]
  },
  {
   "cell_type": "code",
   "execution_count": 3,
   "id": "2bd3d729-e1c5-4d76-8b51-92dfc5ad5c87",
   "metadata": {},
   "outputs": [
    {
     "name": "stdout",
     "output_type": "stream",
     "text": [
      "8\n"
     ]
    }
   ],
   "source": [
    "st=\"pwskills\"\n",
    "length=len(st)\n",
    "print(length)"
   ]
  },
  {
   "cell_type": "code",
   "execution_count": 4,
   "id": "3f8bd461-a230-40b3-bc8b-5a1a3c04789f",
   "metadata": {},
   "outputs": [],
   "source": [
    "#2. How can you concatenate two or more strings in python, and can you provide an example of string concatenation?"
   ]
  },
  {
   "cell_type": "code",
   "execution_count": 5,
   "id": "73ff4b2b-f27a-4da2-9f48-7c8af7243c10",
   "metadata": {},
   "outputs": [],
   "source": [
    "#you can concatenate two or more strings using the + operator or the += operator.Here's an example:"
   ]
  },
  {
   "cell_type": "code",
   "execution_count": 6,
   "id": "f7663956-933f-4445-b037-2b25c798d80e",
   "metadata": {},
   "outputs": [
    {
     "name": "stdout",
     "output_type": "stream",
     "text": [
      "hello, World!\n"
     ]
    }
   ],
   "source": [
    "str1=\"hello\"\n",
    "str2=\"World\"\n",
    "concate_str=str1 + \", \" + str2 + \"!\"\n",
    "print(concate_str)"
   ]
  },
  {
   "cell_type": "code",
   "execution_count": 7,
   "id": "134d4a3b-0fa7-453b-a9ae-3ed8da893c2a",
   "metadata": {},
   "outputs": [
    {
     "name": "stdout",
     "output_type": "stream",
     "text": [
      "hello, World!\n"
     ]
    }
   ],
   "source": [
    "str1 = \"hello\"\n",
    "str2 = \"World\"\n",
    "str1 +=\", \" + str2 + \"!\"\n",
    "print(str1)"
   ]
  },
  {
   "cell_type": "code",
   "execution_count": 8,
   "id": "56d46d6f-8ed3-4b6d-92b1-4256a259626d",
   "metadata": {},
   "outputs": [],
   "source": [
    "#3. What is string slicing in python, and how can you extract a portion of a string using this method?"
   ]
  },
  {
   "cell_type": "code",
   "execution_count": 9,
   "id": "832f1379-7ec2-4e92-904c-56f8568b3f2d",
   "metadata": {},
   "outputs": [],
   "source": [
    "#string slicing in python is a method used to extract a portion of a string by specifying a start index and an end index, optionally along with a step size. The syntax for string slicing is:"
   ]
  },
  {
   "cell_type": "code",
   "execution_count": 11,
   "id": "89b053c5-89a3-484d-af10-a17f000dbad4",
   "metadata": {},
   "outputs": [],
   "source": [
    "#string[start:end:step]"
   ]
  },
  {
   "cell_type": "code",
   "execution_count": 12,
   "id": "ac3edf75-6ab7-4d7b-b27c-759d1fce6ca4",
   "metadata": {},
   "outputs": [],
   "source": [
    "my_string =\"pwskills\""
   ]
  },
  {
   "cell_type": "code",
   "execution_count": 13,
   "id": "a6dbdafc-1eeb-4538-989a-1cbce6316bdf",
   "metadata": {},
   "outputs": [
    {
     "data": {
      "text/plain": [
       "'psi'"
      ]
     },
     "execution_count": 13,
     "metadata": {},
     "output_type": "execute_result"
    }
   ],
   "source": [
    "my_string[0:5:2]"
   ]
  },
  {
   "cell_type": "code",
   "execution_count": 14,
   "id": "28d9b515-77ec-49cd-a52b-ddd5f84230fa",
   "metadata": {},
   "outputs": [],
   "source": [
    "#4. how can you change the case of a string in python, and can you provide examples of both making a string all uppercase and all lowercase?"
   ]
  },
  {
   "cell_type": "code",
   "execution_count": 15,
   "id": "de16b71e-bd98-4478-8e8a-82f0936c6153",
   "metadata": {},
   "outputs": [],
   "source": [
    "#we can change the case of a string using the upper() and lower() methods."
   ]
  },
  {
   "cell_type": "code",
   "execution_count": 16,
   "id": "a1147e40-4702-4c97-a4a9-f62101f56119",
   "metadata": {},
   "outputs": [],
   "source": [
    "str = \"pwskills\""
   ]
  },
  {
   "cell_type": "code",
   "execution_count": 17,
   "id": "f95764f9-a062-4132-8b46-3374d40edc48",
   "metadata": {},
   "outputs": [
    {
     "data": {
      "text/plain": [
       "'PWSKILLS'"
      ]
     },
     "execution_count": 17,
     "metadata": {},
     "output_type": "execute_result"
    }
   ],
   "source": [
    "str.upper()"
   ]
  },
  {
   "cell_type": "code",
   "execution_count": 18,
   "id": "fa61f3fe-f799-4c7b-9359-ce6ebd0cf41b",
   "metadata": {},
   "outputs": [
    {
     "data": {
      "text/plain": [
       "'pwskills'"
      ]
     },
     "execution_count": 18,
     "metadata": {},
     "output_type": "execute_result"
    }
   ],
   "source": [
    "str.lower()"
   ]
  },
  {
   "cell_type": "code",
   "execution_count": 19,
   "id": "aa116f21-042c-4c14-973d-1b6147b4a1c0",
   "metadata": {},
   "outputs": [],
   "source": [
    "#5. What does the split() method do in python, and how can you split a string using a specific delimiter?"
   ]
  },
  {
   "cell_type": "code",
   "execution_count": 20,
   "id": "5e720104-d9af-4590-ad73-c30d209a6539",
   "metadata": {},
   "outputs": [],
   "source": [
    "#split() method in python is used to split a string into a list of substrings based on a specified delimiter."
   ]
  },
  {
   "cell_type": "code",
   "execution_count": 21,
   "id": "6fb3de14-1f57-4468-9282-45d06b969fa1",
   "metadata": {},
   "outputs": [
    {
     "data": {
      "text/plain": [
       "['apple', 'banana', 'cherry']"
      ]
     },
     "execution_count": 21,
     "metadata": {},
     "output_type": "execute_result"
    }
   ],
   "source": [
    "my_str=\"apple banana cherry\"\n",
    "my_str.split()"
   ]
  },
  {
   "cell_type": "code",
   "execution_count": null,
   "id": "a6c8565c-fce6-4b1d-849a-d219d90a07ac",
   "metadata": {},
   "outputs": [],
   "source": []
  }
 ],
 "metadata": {
  "kernelspec": {
   "display_name": "Python 3 (ipykernel)",
   "language": "python",
   "name": "python3"
  },
  "language_info": {
   "codemirror_mode": {
    "name": "ipython",
    "version": 3
   },
   "file_extension": ".py",
   "mimetype": "text/x-python",
   "name": "python",
   "nbconvert_exporter": "python",
   "pygments_lexer": "ipython3",
   "version": "3.10.8"
  }
 },
 "nbformat": 4,
 "nbformat_minor": 5
}
