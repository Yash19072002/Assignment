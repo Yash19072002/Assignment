{
 "cells": [
  {
   "cell_type": "code",
   "execution_count": 1,
   "id": "d2992bcc-10e7-4cc3-9400-289b08baed79",
   "metadata": {},
   "outputs": [],
   "source": [
    "#1.Why might you choose a deque from the collections module to implement a queue instead of using a regular python list?"
   ]
  },
  {
   "cell_type": "code",
   "execution_count": 2,
   "id": "047af761-4eea-43bb-9532-7d5715233725",
   "metadata": {},
   "outputs": [],
   "source": [
    "#using a deque for a queue in python is like using a special tool designed specifically for holding and managing items in a line. it's faster and safer compared to using a regular list because it's built to handle adding items to the front and back of the line quickly. think of it like using a dedicated queue at a store checkout instead of just lining up randomly-it's more efficient and organized."
   ]
  },
  {
   "cell_type": "code",
   "execution_count": 3,
   "id": "79f08d6b-eb7e-4809-b56e-5ec366ba20b2",
   "metadata": {},
   "outputs": [],
   "source": [
    "#2. Can you explain a real-world scenario where using a stack would be a more practical choice than a list for data storage and retrieval?"
   ]
  },
  {
   "cell_type": "code",
   "execution_count": 4,
   "id": "7c32e607-64e1-41ae-af3f-6ff569b4283b",
   "metadata": {},
   "outputs": [],
   "source": [
    "#you are playing a game where you stack up blocks.Each time you add a new block\n",
    "#,it goes on top of the stack.When you want to remove a block, you take the one\n",
    "#off the top. This is like using a stack.\n",
    "#in a real world scenario,imagine you have a pile of books on your desk.You add new\n",
    "#books on top of the pile, and when you want to read the last book you added, you\n",
    "#take it off the top of the pile.That's how a stack works for storing and retrieving data.\n",
    "#it's like a pile where you always add and remove things from the top."
   ]
  },
  {
   "cell_type": "code",
   "execution_count": 11,
   "id": "e7a7283c-9925-4a80-9952-b19730ce4b08",
   "metadata": {},
   "outputs": [],
   "source": [
    "#3what it the primary advantage of using sets in python,and in what type of problem-solving scenarios are they most useful?"
   ]
  },
  {
   "cell_type": "code",
   "execution_count": 6,
   "id": "23d1a723-6824-4c12-86c2-06d396e3df6d",
   "metadata": {},
   "outputs": [],
   "source": [
    "#the primary advantage of using sets is their ability to efficiently perform set operations and membership testing.sets offer constant-time complexity for checking membership and allow for operations like intersection,union,and difference between sets."
   ]
  },
  {
   "cell_type": "code",
   "execution_count": 7,
   "id": "5698e576-9760-4470-9616-37498b7d9605",
   "metadata": {},
   "outputs": [],
   "source": [
    "#some common scenarios where sets are useful in pyhon include:\n",
    "#removing duplicates,checking membership,set operations,filtering data,finding unique elements."
   ]
  },
  {
   "cell_type": "code",
   "execution_count": 8,
   "id": "a4738f1d-0584-441b-a593-41c5c83cfc7a",
   "metadata": {},
   "outputs": [],
   "source": [
    "#sets are valuable for scenarios where you need to efficiently handle collections of data and perform set-related operations.They offer simplicity,efficiency and flexibilty for various problem-solving tasks."
   ]
  },
  {
   "cell_type": "code",
   "execution_count": 9,
   "id": "263894b9-a556-48e1-8139-58525619da69",
   "metadata": {},
   "outputs": [],
   "source": [
    "#4 when might you choose to use an array instead of a list for storing numerical data in python?What benefits do arrays offer in this context?"
   ]
  },
  {
   "cell_type": "code",
   "execution_count": 10,
   "id": "c4d97f31-59d1-4fa8-bb73-bf25b1a2a666",
   "metadata": {},
   "outputs": [],
   "source": [
    "#in python, you might choose to use an array instead of a list for storing numerical data when you need\n",
    "#to work with homogeneous data types (such as integers or floats) and require efficient memory usage and performance.\n",
    "#arrays offer several benefits in this context.\n",
    "#memory efficiency,performance,typed data,optimized operations\n",
    "#in summary, arrays are preferred over lists for storing numerical data in python\n",
    "#when memory efficiency,performance,data type consistency.they offer benefits\n",
    "#such as reduced memory usage,faster access time."
   ]
  },
  {
   "cell_type": "code",
   "execution_count": 12,
   "id": "e4766e10-c661-4114-873b-eaa8c90b90dc",
   "metadata": {},
   "outputs": [],
   "source": [
    "#5 In Python,what's the primary difference between dictionaries and lists, and how does this difference impact their use cases in programming?"
   ]
  },
  {
   "cell_type": "code",
   "execution_count": 13,
   "id": "01f011b7-37d4-4cc9-8373-4eaed715dfe7",
   "metadata": {},
   "outputs": [],
   "source": [
    "#the primary difference between dictionaries and lists in python lies in how they store and retrieve data:\n",
    "#lists:lists are ordered collections of items.\n",
    "#dictionaries:dictionaries are unordered collections of key value pairs.\n",
    "#the difference in how data is accessed and stored impacts their use cases in programming."
   ]
  },
  {
   "cell_type": "code",
   "execution_count": null,
   "id": "c93cf876-6266-4c14-86c6-fecf27987bcb",
   "metadata": {},
   "outputs": [],
   "source": []
  }
 ],
 "metadata": {
  "kernelspec": {
   "display_name": "Python 3 (ipykernel)",
   "language": "python",
   "name": "python3"
  },
  "language_info": {
   "codemirror_mode": {
    "name": "ipython",
    "version": 3
   },
   "file_extension": ".py",
   "mimetype": "text/x-python",
   "name": "python",
   "nbconvert_exporter": "python",
   "pygments_lexer": "ipython3",
   "version": "3.10.8"
  }
 },
 "nbformat": 4,
 "nbformat_minor": 5
}
